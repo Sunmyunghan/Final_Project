{
  "nbformat": 4,
  "nbformat_minor": 0,
  "metadata": {
    "colab": {
      "name": "man2man_analysis.ipynb",
      "provenance": [],
      "collapsed_sections": [],
      "authorship_tag": "ABX9TyPHg/epXJaFiz9PT75VbNc8"
    },
    "kernelspec": {
      "name": "python3",
      "display_name": "Python 3"
    },
    "language_info": {
      "name": "python"
    }
  },
  "cells": [
    {
      "cell_type": "code",
      "source": [
        "from google.colab import drive\n",
        "drive.mount('/gdrive')"
      ],
      "metadata": {
        "id": "fBvZMflSU-zr",
        "colab": {
          "base_uri": "https://localhost:8080/"
        },
        "outputId": "2b853c4c-dbaf-4425-9a79-e998d0ecc109"
      },
      "execution_count": 1,
      "outputs": [
        {
          "output_type": "stream",
          "name": "stdout",
          "text": [
            "Mounted at /gdrive\n"
          ]
        }
      ]
    },
    {
      "cell_type": "code",
      "source": [
        "cd '../gdrive/MyDrive/SSAC/3조'"
      ],
      "metadata": {
        "id": "rw0-hDTFU-Qj",
        "colab": {
          "base_uri": "https://localhost:8080/"
        },
        "outputId": "810d60e6-ab58-411a-a18a-afbdc922a54a"
      },
      "execution_count": 2,
      "outputs": [
        {
          "output_type": "stream",
          "name": "stdout",
          "text": [
            "/gdrive/.shortcut-targets-by-id/15_BxZVEQYCdGCGiQ5nexpWPc1cgHVe4w/3조\n"
          ]
        }
      ]
    },
    {
      "cell_type": "code",
      "source": [
        "import numpy as np\n",
        "import pandas as pd"
      ],
      "metadata": {
        "id": "mE06OOAFjml5"
      },
      "execution_count": 3,
      "outputs": []
    },
    {
      "cell_type": "markdown",
      "source": [
        "# 맨투맨만 뽑기"
      ],
      "metadata": {
        "id": "3RAAaWgyZUnk"
      }
    },
    {
      "cell_type": "code",
      "source": [
        "df = pd.read_csv('data/텍스트유사도.csv')\n",
        "ctr = pd.read_csv('data/의류/total_ctr.csv')\n",
        "\n",
        "df = df.set_index('content_id')\n",
        "df = df[df.bg_rgb != '-1']\n",
        "ctr= ctr.set_index('content_id')\n",
        "ctr = ctr.loc[df.index]\n",
        "\n",
        "man2man = df[df['content_cat_2'] == '맨투맨']\n",
        "ctr_m2m = ctr.loc[man2man.index]\n",
        "\n",
        "gender_ctr = ctr.groupby(['gender','content_id']).mean()\n",
        "\n",
        "man2man['ctr_man'] = gender_ctr.loc[1]['ctr']\n",
        "man2man['ctr_woman'] = gender_ctr.loc[2]['ctr']\n",
        "man2man['ctr'] = ctr.groupby('content_id').mean()['ctr']\n",
        "\n",
        "for col in ['ctr', 'ctr_man', 'ctr_woman', '제목-키워드']:\n",
        "    man2man[col + '_ratio'] = man2man[col].apply(lambda x: 100*x/man2man[col].mean() -100)"
      ],
      "metadata": {
        "colab": {
          "base_uri": "https://localhost:8080/"
        },
        "id": "hYaiAzyBIdv7",
        "outputId": "9d7d5183-5c6c-4589-a8bf-9eda4b85b0b9"
      },
      "execution_count": 4,
      "outputs": [
        {
          "output_type": "stream",
          "name": "stderr",
          "text": [
            "/usr/local/lib/python3.7/dist-packages/ipykernel_launcher.py:14: SettingWithCopyWarning: \n",
            "A value is trying to be set on a copy of a slice from a DataFrame.\n",
            "Try using .loc[row_indexer,col_indexer] = value instead\n",
            "\n",
            "See the caveats in the documentation: https://pandas.pydata.org/pandas-docs/stable/user_guide/indexing.html#returning-a-view-versus-a-copy\n",
            "  \n",
            "/usr/local/lib/python3.7/dist-packages/ipykernel_launcher.py:15: SettingWithCopyWarning: \n",
            "A value is trying to be set on a copy of a slice from a DataFrame.\n",
            "Try using .loc[row_indexer,col_indexer] = value instead\n",
            "\n",
            "See the caveats in the documentation: https://pandas.pydata.org/pandas-docs/stable/user_guide/indexing.html#returning-a-view-versus-a-copy\n",
            "  from ipykernel import kernelapp as app\n",
            "/usr/local/lib/python3.7/dist-packages/ipykernel_launcher.py:16: SettingWithCopyWarning: \n",
            "A value is trying to be set on a copy of a slice from a DataFrame.\n",
            "Try using .loc[row_indexer,col_indexer] = value instead\n",
            "\n",
            "See the caveats in the documentation: https://pandas.pydata.org/pandas-docs/stable/user_guide/indexing.html#returning-a-view-versus-a-copy\n",
            "  app.launch_new_instance()\n",
            "/usr/local/lib/python3.7/dist-packages/ipykernel_launcher.py:19: SettingWithCopyWarning: \n",
            "A value is trying to be set on a copy of a slice from a DataFrame.\n",
            "Try using .loc[row_indexer,col_indexer] = value instead\n",
            "\n",
            "See the caveats in the documentation: https://pandas.pydata.org/pandas-docs/stable/user_guide/indexing.html#returning-a-view-versus-a-copy\n"
          ]
        }
      ]
    },
    {
      "cell_type": "code",
      "source": [
        "man2man[['ctr', 'ctr_man', 'ctr_woman']].mean()"
      ],
      "metadata": {
        "colab": {
          "base_uri": "https://localhost:8080/"
        },
        "id": "fjtiJkSlU7Wt",
        "outputId": "93ebeb9a-8030-4e65-9ca9-3e586be9ca7a"
      },
      "execution_count": 5,
      "outputs": [
        {
          "output_type": "execute_result",
          "data": {
            "text/plain": [
              "ctr          0.022293\n",
              "ctr_man      0.023696\n",
              "ctr_woman    0.020890\n",
              "dtype: float64"
            ]
          },
          "metadata": {},
          "execution_count": 5
        }
      ]
    },
    {
      "cell_type": "code",
      "source": [
        "def printer(col, threshold, df=df,ctr=ctr):\n",
        "    print(f\"{col} | {threshold}보다 큰거 : {round(ctr.loc[df[col]>threshold].mean()['ctr']*100,2)} %\")\n",
        "    print(f\"{col} | {threshold}보다 작은거 : {round(ctr.loc[df[col]<=threshold].mean()['ctr']*100,2)} %\")\n",
        "    print('-'*50)\n",
        "\n",
        "def classifier(col, threshold, df, ctr):\n",
        "    low = round(ctr.loc[df[col]<=threshold].mean()['ctr']*100,2)\n",
        "    high = round(ctr.loc[df[col]>threshold].mean()['ctr']*100,2)\n",
        "    return low, high\n",
        "\n",
        "def calculate_diff(low, high):\n",
        "    if low > high:\n",
        "        status = 'low'\n",
        "        ratio = round((low - high)/high*100,2)\n",
        "    else:\n",
        "        status = 'high'\n",
        "        ratio = round((high - low)/low*100,2)\n",
        "\n",
        "    return status, ratio"
      ],
      "metadata": {
        "id": "iApaW4HB_Nhk"
      },
      "execution_count": 6,
      "outputs": []
    },
    {
      "cell_type": "code",
      "source": [
        "def analysis_features(classify_features):\n",
        "    result_df = pd.DataFrame(columns=['데이터', '컬럼', 'threshold', '구분', 'CTR'])\n",
        "    diff_df = pd.DataFrame(columns=['데이터', '컬럼', 'threshold', '구분', 'ratio'])\n",
        "    for i, (col, threshold) in enumerate(classify_features.items()):\n",
        "        low, high = classifier(col, threshold, df, ctr)\n",
        "        result_df.loc[4*i] = {'데이터': '전체', '컬럼': col, 'threshold': threshold, '구분': 'low', 'CTR': low}\n",
        "        result_df.loc[4*i+1] = {'데이터': '전체', '컬럼': col, 'threshold': threshold, '구분': 'high', 'CTR': high}\n",
        "        status, ratio = calculate_diff(low, high)\n",
        "        diff_df.loc[2*i] = {'데이터': '전체', '컬럼': col, 'threshold': threshold, '구분': status, 'ratio': ratio}\n",
        "\n",
        "        low, high = classifier(col, threshold, man2man, ctr_m2m)\n",
        "        result_df.loc[4*i+2] = {'데이터': '맨투맨', '컬럼': col, 'threshold': threshold, '구분': 'low', 'CTR': low}\n",
        "        result_df.loc[4*i+3] = {'데이터': '맨투맨', '컬럼': col, 'threshold': threshold, '구분': 'high', 'CTR': high}\n",
        "        status, ratio = calculate_diff(low, high)\n",
        "        diff_df.loc[2*i+1] = {'데이터': '맨투맨', '컬럼': col, 'threshold': threshold, '구분': status, 'ratio': ratio}\n",
        "\n",
        "    return result_df, diff_df"
      ],
      "metadata": {
        "id": "OXSZPHZobALZ"
      },
      "execution_count": 7,
      "outputs": []
    },
    {
      "cell_type": "code",
      "source": [
        "threshold_dict = {\n",
        "    'content_price': 30000,\n",
        "    'content_views': 100,\n",
        "    'content_likes': 5,\n",
        "    'adv_item_count': 50,\n",
        "    'adv_follower_count': 20,\n",
        "    'adv_review_count': 20,\n",
        "    'content_delivery_fee': 0,\n",
        "    'content_used': 0,\n",
        "    'tradable': 0,\n",
        "    'background_ratio': 0.5,\n",
        "    'bg_noise': 0.4,\n",
        "    'nobg_noise': 0.4\n",
        "}"
      ],
      "metadata": {
        "id": "970AHNA1aT5o"
      },
      "execution_count": 8,
      "outputs": []
    },
    {
      "cell_type": "code",
      "source": [
        "result_df, diff_df = analysis_features(threshold_dict)"
      ],
      "metadata": {
        "id": "A2oNY3lacJ7Z"
      },
      "execution_count": 9,
      "outputs": []
    },
    {
      "cell_type": "code",
      "source": [
        "diff_df"
      ],
      "metadata": {
        "colab": {
          "base_uri": "https://localhost:8080/",
          "height": 801
        },
        "id": "VJQLyoldcq57",
        "outputId": "648f4851-5533-4e14-dcde-a5d91384c072"
      },
      "execution_count": 10,
      "outputs": [
        {
          "output_type": "execute_result",
          "data": {
            "text/html": [
              "\n",
              "  <div id=\"df-bad9a574-ba1c-4742-b7c6-7eb9423b9f44\">\n",
              "    <div class=\"colab-df-container\">\n",
              "      <div>\n",
              "<style scoped>\n",
              "    .dataframe tbody tr th:only-of-type {\n",
              "        vertical-align: middle;\n",
              "    }\n",
              "\n",
              "    .dataframe tbody tr th {\n",
              "        vertical-align: top;\n",
              "    }\n",
              "\n",
              "    .dataframe thead th {\n",
              "        text-align: right;\n",
              "    }\n",
              "</style>\n",
              "<table border=\"1\" class=\"dataframe\">\n",
              "  <thead>\n",
              "    <tr style=\"text-align: right;\">\n",
              "      <th></th>\n",
              "      <th>데이터</th>\n",
              "      <th>컬럼</th>\n",
              "      <th>threshold</th>\n",
              "      <th>구분</th>\n",
              "      <th>ratio</th>\n",
              "    </tr>\n",
              "  </thead>\n",
              "  <tbody>\n",
              "    <tr>\n",
              "      <th>0</th>\n",
              "      <td>전체</td>\n",
              "      <td>content_price</td>\n",
              "      <td>30000</td>\n",
              "      <td>high</td>\n",
              "      <td>17.16</td>\n",
              "    </tr>\n",
              "    <tr>\n",
              "      <th>1</th>\n",
              "      <td>맨투맨</td>\n",
              "      <td>content_price</td>\n",
              "      <td>30000</td>\n",
              "      <td>low</td>\n",
              "      <td>11.06</td>\n",
              "    </tr>\n",
              "    <tr>\n",
              "      <th>2</th>\n",
              "      <td>전체</td>\n",
              "      <td>content_views</td>\n",
              "      <td>100</td>\n",
              "      <td>high</td>\n",
              "      <td>8.53</td>\n",
              "    </tr>\n",
              "    <tr>\n",
              "      <th>3</th>\n",
              "      <td>맨투맨</td>\n",
              "      <td>content_views</td>\n",
              "      <td>100</td>\n",
              "      <td>low</td>\n",
              "      <td>9.52</td>\n",
              "    </tr>\n",
              "    <tr>\n",
              "      <th>4</th>\n",
              "      <td>전체</td>\n",
              "      <td>content_likes</td>\n",
              "      <td>5</td>\n",
              "      <td>high</td>\n",
              "      <td>6.94</td>\n",
              "    </tr>\n",
              "    <tr>\n",
              "      <th>5</th>\n",
              "      <td>맨투맨</td>\n",
              "      <td>content_likes</td>\n",
              "      <td>5</td>\n",
              "      <td>low</td>\n",
              "      <td>3.23</td>\n",
              "    </tr>\n",
              "    <tr>\n",
              "      <th>6</th>\n",
              "      <td>전체</td>\n",
              "      <td>adv_item_count</td>\n",
              "      <td>50</td>\n",
              "      <td>high</td>\n",
              "      <td>3.72</td>\n",
              "    </tr>\n",
              "    <tr>\n",
              "      <th>7</th>\n",
              "      <td>맨투맨</td>\n",
              "      <td>adv_item_count</td>\n",
              "      <td>50</td>\n",
              "      <td>low</td>\n",
              "      <td>1.81</td>\n",
              "    </tr>\n",
              "    <tr>\n",
              "      <th>8</th>\n",
              "      <td>전체</td>\n",
              "      <td>adv_follower_count</td>\n",
              "      <td>20</td>\n",
              "      <td>high</td>\n",
              "      <td>8.41</td>\n",
              "    </tr>\n",
              "    <tr>\n",
              "      <th>9</th>\n",
              "      <td>맨투맨</td>\n",
              "      <td>adv_follower_count</td>\n",
              "      <td>20</td>\n",
              "      <td>low</td>\n",
              "      <td>8.61</td>\n",
              "    </tr>\n",
              "    <tr>\n",
              "      <th>10</th>\n",
              "      <td>전체</td>\n",
              "      <td>adv_review_count</td>\n",
              "      <td>20</td>\n",
              "      <td>high</td>\n",
              "      <td>5.56</td>\n",
              "    </tr>\n",
              "    <tr>\n",
              "      <th>11</th>\n",
              "      <td>맨투맨</td>\n",
              "      <td>adv_review_count</td>\n",
              "      <td>20</td>\n",
              "      <td>low</td>\n",
              "      <td>7.08</td>\n",
              "    </tr>\n",
              "    <tr>\n",
              "      <th>12</th>\n",
              "      <td>전체</td>\n",
              "      <td>content_delivery_fee</td>\n",
              "      <td>0</td>\n",
              "      <td>low</td>\n",
              "      <td>19.90</td>\n",
              "    </tr>\n",
              "    <tr>\n",
              "      <th>13</th>\n",
              "      <td>맨투맨</td>\n",
              "      <td>content_delivery_fee</td>\n",
              "      <td>0</td>\n",
              "      <td>low</td>\n",
              "      <td>221.95</td>\n",
              "    </tr>\n",
              "    <tr>\n",
              "      <th>14</th>\n",
              "      <td>전체</td>\n",
              "      <td>content_used</td>\n",
              "      <td>0</td>\n",
              "      <td>low</td>\n",
              "      <td>11.68</td>\n",
              "    </tr>\n",
              "    <tr>\n",
              "      <th>15</th>\n",
              "      <td>맨투맨</td>\n",
              "      <td>content_used</td>\n",
              "      <td>0</td>\n",
              "      <td>low</td>\n",
              "      <td>22.79</td>\n",
              "    </tr>\n",
              "    <tr>\n",
              "      <th>16</th>\n",
              "      <td>전체</td>\n",
              "      <td>tradable</td>\n",
              "      <td>0</td>\n",
              "      <td>high</td>\n",
              "      <td>8.22</td>\n",
              "    </tr>\n",
              "    <tr>\n",
              "      <th>17</th>\n",
              "      <td>맨투맨</td>\n",
              "      <td>tradable</td>\n",
              "      <td>0</td>\n",
              "      <td>high</td>\n",
              "      <td>30.32</td>\n",
              "    </tr>\n",
              "    <tr>\n",
              "      <th>18</th>\n",
              "      <td>전체</td>\n",
              "      <td>background_ratio</td>\n",
              "      <td>0.5</td>\n",
              "      <td>low</td>\n",
              "      <td>2.75</td>\n",
              "    </tr>\n",
              "    <tr>\n",
              "      <th>19</th>\n",
              "      <td>맨투맨</td>\n",
              "      <td>background_ratio</td>\n",
              "      <td>0.5</td>\n",
              "      <td>low</td>\n",
              "      <td>13.74</td>\n",
              "    </tr>\n",
              "    <tr>\n",
              "      <th>20</th>\n",
              "      <td>전체</td>\n",
              "      <td>bg_noise</td>\n",
              "      <td>0.4</td>\n",
              "      <td>low</td>\n",
              "      <td>9.95</td>\n",
              "    </tr>\n",
              "    <tr>\n",
              "      <th>21</th>\n",
              "      <td>맨투맨</td>\n",
              "      <td>bg_noise</td>\n",
              "      <td>0.4</td>\n",
              "      <td>low</td>\n",
              "      <td>23.37</td>\n",
              "    </tr>\n",
              "    <tr>\n",
              "      <th>22</th>\n",
              "      <td>전체</td>\n",
              "      <td>nobg_noise</td>\n",
              "      <td>0.4</td>\n",
              "      <td>low</td>\n",
              "      <td>9.27</td>\n",
              "    </tr>\n",
              "    <tr>\n",
              "      <th>23</th>\n",
              "      <td>맨투맨</td>\n",
              "      <td>nobg_noise</td>\n",
              "      <td>0.4</td>\n",
              "      <td>low</td>\n",
              "      <td>11.39</td>\n",
              "    </tr>\n",
              "  </tbody>\n",
              "</table>\n",
              "</div>\n",
              "      <button class=\"colab-df-convert\" onclick=\"convertToInteractive('df-bad9a574-ba1c-4742-b7c6-7eb9423b9f44')\"\n",
              "              title=\"Convert this dataframe to an interactive table.\"\n",
              "              style=\"display:none;\">\n",
              "        \n",
              "  <svg xmlns=\"http://www.w3.org/2000/svg\" height=\"24px\"viewBox=\"0 0 24 24\"\n",
              "       width=\"24px\">\n",
              "    <path d=\"M0 0h24v24H0V0z\" fill=\"none\"/>\n",
              "    <path d=\"M18.56 5.44l.94 2.06.94-2.06 2.06-.94-2.06-.94-.94-2.06-.94 2.06-2.06.94zm-11 1L8.5 8.5l.94-2.06 2.06-.94-2.06-.94L8.5 2.5l-.94 2.06-2.06.94zm10 10l.94 2.06.94-2.06 2.06-.94-2.06-.94-.94-2.06-.94 2.06-2.06.94z\"/><path d=\"M17.41 7.96l-1.37-1.37c-.4-.4-.92-.59-1.43-.59-.52 0-1.04.2-1.43.59L10.3 9.45l-7.72 7.72c-.78.78-.78 2.05 0 2.83L4 21.41c.39.39.9.59 1.41.59.51 0 1.02-.2 1.41-.59l7.78-7.78 2.81-2.81c.8-.78.8-2.07 0-2.86zM5.41 20L4 18.59l7.72-7.72 1.47 1.35L5.41 20z\"/>\n",
              "  </svg>\n",
              "      </button>\n",
              "      \n",
              "  <style>\n",
              "    .colab-df-container {\n",
              "      display:flex;\n",
              "      flex-wrap:wrap;\n",
              "      gap: 12px;\n",
              "    }\n",
              "\n",
              "    .colab-df-convert {\n",
              "      background-color: #E8F0FE;\n",
              "      border: none;\n",
              "      border-radius: 50%;\n",
              "      cursor: pointer;\n",
              "      display: none;\n",
              "      fill: #1967D2;\n",
              "      height: 32px;\n",
              "      padding: 0 0 0 0;\n",
              "      width: 32px;\n",
              "    }\n",
              "\n",
              "    .colab-df-convert:hover {\n",
              "      background-color: #E2EBFA;\n",
              "      box-shadow: 0px 1px 2px rgba(60, 64, 67, 0.3), 0px 1px 3px 1px rgba(60, 64, 67, 0.15);\n",
              "      fill: #174EA6;\n",
              "    }\n",
              "\n",
              "    [theme=dark] .colab-df-convert {\n",
              "      background-color: #3B4455;\n",
              "      fill: #D2E3FC;\n",
              "    }\n",
              "\n",
              "    [theme=dark] .colab-df-convert:hover {\n",
              "      background-color: #434B5C;\n",
              "      box-shadow: 0px 1px 3px 1px rgba(0, 0, 0, 0.15);\n",
              "      filter: drop-shadow(0px 1px 2px rgba(0, 0, 0, 0.3));\n",
              "      fill: #FFFFFF;\n",
              "    }\n",
              "  </style>\n",
              "\n",
              "      <script>\n",
              "        const buttonEl =\n",
              "          document.querySelector('#df-bad9a574-ba1c-4742-b7c6-7eb9423b9f44 button.colab-df-convert');\n",
              "        buttonEl.style.display =\n",
              "          google.colab.kernel.accessAllowed ? 'block' : 'none';\n",
              "\n",
              "        async function convertToInteractive(key) {\n",
              "          const element = document.querySelector('#df-bad9a574-ba1c-4742-b7c6-7eb9423b9f44');\n",
              "          const dataTable =\n",
              "            await google.colab.kernel.invokeFunction('convertToInteractive',\n",
              "                                                     [key], {});\n",
              "          if (!dataTable) return;\n",
              "\n",
              "          const docLinkHtml = 'Like what you see? Visit the ' +\n",
              "            '<a target=\"_blank\" href=https://colab.research.google.com/notebooks/data_table.ipynb>data table notebook</a>'\n",
              "            + ' to learn more about interactive tables.';\n",
              "          element.innerHTML = '';\n",
              "          dataTable['output_type'] = 'display_data';\n",
              "          await google.colab.output.renderOutput(dataTable, element);\n",
              "          const docLink = document.createElement('div');\n",
              "          docLink.innerHTML = docLinkHtml;\n",
              "          element.appendChild(docLink);\n",
              "        }\n",
              "      </script>\n",
              "    </div>\n",
              "  </div>\n",
              "  "
            ],
            "text/plain": [
              "    데이터                    컬럼 threshold    구분   ratio\n",
              "0    전체         content_price     30000  high   17.16\n",
              "1   맨투맨         content_price     30000   low   11.06\n",
              "2    전체         content_views       100  high    8.53\n",
              "3   맨투맨         content_views       100   low    9.52\n",
              "4    전체         content_likes         5  high    6.94\n",
              "5   맨투맨         content_likes         5   low    3.23\n",
              "6    전체        adv_item_count        50  high    3.72\n",
              "7   맨투맨        adv_item_count        50   low    1.81\n",
              "8    전체    adv_follower_count        20  high    8.41\n",
              "9   맨투맨    adv_follower_count        20   low    8.61\n",
              "10   전체      adv_review_count        20  high    5.56\n",
              "11  맨투맨      adv_review_count        20   low    7.08\n",
              "12   전체  content_delivery_fee         0   low   19.90\n",
              "13  맨투맨  content_delivery_fee         0   low  221.95\n",
              "14   전체          content_used         0   low   11.68\n",
              "15  맨투맨          content_used         0   low   22.79\n",
              "16   전체              tradable         0  high    8.22\n",
              "17  맨투맨              tradable         0  high   30.32\n",
              "18   전체      background_ratio       0.5   low    2.75\n",
              "19  맨투맨      background_ratio       0.5   low   13.74\n",
              "20   전체              bg_noise       0.4   low    9.95\n",
              "21  맨투맨              bg_noise       0.4   low   23.37\n",
              "22   전체            nobg_noise       0.4   low    9.27\n",
              "23  맨투맨            nobg_noise       0.4   low   11.39"
            ]
          },
          "metadata": {},
          "execution_count": 10
        }
      ]
    }
  ]
}