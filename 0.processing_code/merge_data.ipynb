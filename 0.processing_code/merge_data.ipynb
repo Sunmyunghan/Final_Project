{
 "cells": [
  {
   "cell_type": "code",
   "execution_count": 1,
   "metadata": {
    "ExecuteTime": {
     "end_time": "2021-12-15T06:37:41.199171Z",
     "start_time": "2021-12-15T06:37:41.195184Z"
    }
   },
   "outputs": [],
   "source": [
    "import pandas as pd"
   ]
  },
  {
   "cell_type": "code",
   "execution_count": 4,
   "metadata": {
    "ExecuteTime": {
     "end_time": "2021-12-15T06:39:55.542799Z",
     "start_time": "2021-12-15T06:39:55.513885Z"
    }
   },
   "outputs": [
    {
     "name": "stdout",
     "output_type": "stream",
     "text": [
      " C 드라이브의 볼륨에는 이름이 없습니다.\n",
      " 볼륨 일련 번호: 9CFB-7ACE\n",
      "\n",
      " C:\\Users\\dongyoung\\0SSAC\\기업연계 프로젝트\\ad 디렉터리\n",
      "\n",
      "2021-12-15  오후 03:39    <DIR>          .\n",
      "2021-12-15  오후 03:39    <DIR>          ..\n",
      "2021-12-15  오후 03:37    <DIR>          .ipynb_checkpoints\n",
      "2021-12-13  오전 09:09    <DIR>          __MACOSX\n",
      "2021-12-15  오후 02:28           117,515 Ad content 크롤링.ipynb\n",
      "2021-12-15  오후 01:02         1,255,048 ad_content_data.csv\n",
      "2021-11-11  오전 02:25        11,372,032 chromedriver.exe\n",
      "2021-12-13  오전 09:09    <DIR>          data\n",
      "2021-12-13  오후 03:58            21,488 EDAA.ipynb\n",
      "2021-12-15  오후 01:03         1,260,395 exercise-5.1.1-eda.ipynb\n",
      "2021-12-14  오후 11:23           215,468 exercise-5.1.2-train.ipynb\n",
      "2021-12-13  오전 11:27            54,375 exercise-5.1.3-rec.ipynb\n",
      "2021-12-14  오후 10:33             2,232 lib.py\n",
      "2021-12-15  오후 03:39             3,263 merge_data.ipynb\n",
      "               9개 파일          14,301,816 바이트\n",
      "               5개 디렉터리   8,725,778,432 바이트 남음\n"
     ]
    }
   ],
   "source": [
    "ls"
   ]
  },
  {
   "cell_type": "code",
   "execution_count": null,
   "metadata": {},
   "outputs": [],
   "source": [
    "ad_df = pd.read_csv('ad.csv')\n",
    "advertiser_df = pd.read_csv('advertiser.csv')\n",
    "dataset_df = pd.read_csv('dataset.csv')\n",
    "impression_df = pd.read_csv('impression_log.csv')\n",
    "view_df = pd.read_csv('view_log.csv')\n",
    "viewer_df = pd.read_csv('viewer.csv')"
   ]
  },
  {
   "cell_type": "code",
   "execution_count": 5,
   "metadata": {
    "ExecuteTime": {
     "end_time": "2021-12-15T06:40:00.441821Z",
     "start_time": "2021-12-15T06:40:00.398817Z"
    }
   },
   "outputs": [],
   "source": [
    "df = pd.read_csv('ad_content_data.csv')"
   ]
  },
  {
   "cell_type": "code",
   "execution_count": 9,
   "metadata": {
    "ExecuteTime": {
     "end_time": "2021-12-15T06:41:16.657275Z",
     "start_time": "2021-12-15T06:41:16.651294Z"
    }
   },
   "outputs": [],
   "source": [
    "selling = df[df['status']=='판매중']"
   ]
  },
  {
   "cell_type": "code",
   "execution_count": null,
   "metadata": {},
   "outputs": [],
   "source": []
  }
 ],
 "metadata": {
  "kernelspec": {
   "display_name": "Python 3",
   "language": "python",
   "name": "python3"
  },
  "language_info": {
   "codemirror_mode": {
    "name": "ipython",
    "version": 3
   },
   "file_extension": ".py",
   "mimetype": "text/x-python",
   "name": "python",
   "nbconvert_exporter": "python",
   "pygments_lexer": "ipython3",
   "version": "3.7.4"
  },
  "toc": {
   "base_numbering": 1,
   "nav_menu": {},
   "number_sections": true,
   "sideBar": true,
   "skip_h1_title": false,
   "title_cell": "Table of Contents",
   "title_sidebar": "Contents",
   "toc_cell": false,
   "toc_position": {},
   "toc_section_display": true,
   "toc_window_display": false
  },
  "varInspector": {
   "cols": {
    "lenName": 16,
    "lenType": 16,
    "lenVar": 40
   },
   "kernels_config": {
    "python": {
     "delete_cmd_postfix": "",
     "delete_cmd_prefix": "del ",
     "library": "var_list.py",
     "varRefreshCmd": "print(var_dic_list())"
    },
    "r": {
     "delete_cmd_postfix": ") ",
     "delete_cmd_prefix": "rm(",
     "library": "var_list.r",
     "varRefreshCmd": "cat(var_dic_list()) "
    }
   },
   "types_to_exclude": [
    "module",
    "function",
    "builtin_function_or_method",
    "instance",
    "_Feature"
   ],
   "window_display": false
  }
 },
 "nbformat": 4,
 "nbformat_minor": 2
}
