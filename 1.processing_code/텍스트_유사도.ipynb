{
  "nbformat": 4,
  "nbformat_minor": 0,
  "metadata": {
    "colab": {
      "name": "텍스트_유사도.ipynb",
      "provenance": [],
      "collapsed_sections": [
        "w85kQL0v4EHS"
      ],
      "include_colab_link": true
    },
    "kernelspec": {
      "name": "python3",
      "display_name": "Python 3"
    },
    "language_info": {
      "name": "python"
    }
  },
  "cells": [
    {
      "cell_type": "markdown",
      "metadata": {
        "id": "view-in-github",
        "colab_type": "text"
      },
      "source": [
        "<a href=\"https://colab.research.google.com/github/dongyoung0/Final_Project/blob/develop/1.processing_code/%ED%85%8D%EC%8A%A4%ED%8A%B8_%EC%9C%A0%EC%82%AC%EB%8F%84.ipynb\" target=\"_parent\"><img src=\"https://colab.research.google.com/assets/colab-badge.svg\" alt=\"Open In Colab\"/></a>"
      ]
    },
    {
      "cell_type": "code",
      "source": [
        "from google.colab import drive\n",
        "drive.mount('/gdrive')"
      ],
      "metadata": {
        "id": "fBvZMflSU-zr",
        "colab": {
          "base_uri": "https://localhost:8080/"
        },
        "outputId": "d279c9c3-97d3-4b65-c365-85b894df3e4b"
      },
      "execution_count": null,
      "outputs": [
        {
          "output_type": "stream",
          "name": "stdout",
          "text": [
            "Mounted at /gdrive\n"
          ]
        }
      ]
    },
    {
      "cell_type": "code",
      "source": [
        "cd '../gdrive/MyDrive/SSAC/3조'"
      ],
      "metadata": {
        "id": "rw0-hDTFU-Qj",
        "colab": {
          "base_uri": "https://localhost:8080/"
        },
        "outputId": "6389c5a2-d7c5-4c84-de08-4d3399444ae3"
      },
      "execution_count": null,
      "outputs": [
        {
          "output_type": "stream",
          "name": "stdout",
          "text": [
            "/gdrive/.shortcut-targets-by-id/15_BxZVEQYCdGCGiQ5nexpWPc1cgHVe4w/3조\n"
          ]
        }
      ]
    },
    {
      "cell_type": "code",
      "source": [
        "import pandas as pd\n",
        "import numpy as np"
      ],
      "metadata": {
        "id": "d2F6EBNQnfEd"
      },
      "execution_count": null,
      "outputs": []
    },
    {
      "cell_type": "code",
      "source": [
        "!pip install konlpy"
      ],
      "metadata": {
        "colab": {
          "base_uri": "https://localhost:8080/"
        },
        "id": "FK47UCbJnyO0",
        "outputId": "6692eb3b-3638-4cab-b635-ef0312218d83"
      },
      "execution_count": null,
      "outputs": [
        {
          "output_type": "stream",
          "name": "stdout",
          "text": [
            "Collecting konlpy\n",
            "  Downloading konlpy-0.6.0-py2.py3-none-any.whl (19.4 MB)\n",
            "\u001b[K     |████████████████████████████████| 19.4 MB 1.3 MB/s \n",
            "\u001b[?25hRequirement already satisfied: lxml>=4.1.0 in /usr/local/lib/python3.7/dist-packages (from konlpy) (4.2.6)\n",
            "Collecting JPype1>=0.7.0\n",
            "  Downloading JPype1-1.3.0-cp37-cp37m-manylinux_2_5_x86_64.manylinux1_x86_64.whl (448 kB)\n",
            "\u001b[K     |████████████████████████████████| 448 kB 54.7 MB/s \n",
            "\u001b[?25hRequirement already satisfied: numpy>=1.6 in /usr/local/lib/python3.7/dist-packages (from konlpy) (1.19.5)\n",
            "Requirement already satisfied: typing-extensions in /usr/local/lib/python3.7/dist-packages (from JPype1>=0.7.0->konlpy) (3.10.0.2)\n",
            "Installing collected packages: JPype1, konlpy\n",
            "Successfully installed JPype1-1.3.0 konlpy-0.6.0\n"
          ]
        }
      ]
    },
    {
      "cell_type": "code",
      "source": [
        "from konlpy.tag import Kkma, Okt\n",
        "from konlpy.utils import pprint"
      ],
      "metadata": {
        "id": "i624H8rvnb2H"
      },
      "execution_count": null,
      "outputs": []
    },
    {
      "cell_type": "markdown",
      "source": [
        "# 텍스트 전처리 🐶"
      ],
      "metadata": {
        "id": "3tte7a9R2Bce"
      }
    },
    {
      "cell_type": "code",
      "source": [
        "df = pd.read_csv('data/content.csv')\n",
        "text_df = pd.read_csv('text_example.csv')"
      ],
      "metadata": {
        "id": "eyxXj0SSnWDC"
      },
      "execution_count": null,
      "outputs": []
    },
    {
      "cell_type": "markdown",
      "source": [
        "## 필요 함수 정의"
      ],
      "metadata": {
        "id": "FhUZm6ig2Znp"
      }
    },
    {
      "cell_type": "markdown",
      "source": [
        "### 정규표현식 - 한글 제외 모두 제거"
      ],
      "metadata": {
        "id": "BZKh2Rer2bTf"
      }
    },
    {
      "cell_type": "code",
      "source": [
        "import re \n",
        "\n",
        "def re_kor(s, target = 'list'):\n",
        "    # pre = re.compile('[^ ㄱ-ㅣ가-힣]')\n",
        "    pre = re.compile('[^ 가-힣]')\n",
        "    result = pre.sub(' ', s) \n",
        "    while '  ' in result:\n",
        "        result = result.replace('  ', ' ')\n",
        "    if target == 'list':\n",
        "        result = result.split(' ')\n",
        "        result = [r for r in result if r!='']\n",
        "    return result"
      ],
      "metadata": {
        "id": "K_YEFB8mL67P"
      },
      "execution_count": null,
      "outputs": []
    },
    {
      "cell_type": "markdown",
      "source": [
        "### 단어 개수 세기"
      ],
      "metadata": {
        "id": "EN16FwS-2dm2"
      }
    },
    {
      "cell_type": "code",
      "source": [
        "def get_voca_cnt(voca_list):\n",
        "    total_vocabs = []\n",
        "    for t in voca_list:\n",
        "        total_vocabs.extend(t)\n",
        "    total_unique, total_count = np.unique(total_vocabs, return_counts=True)\n",
        "    vocab_cnt = pd.DataFrame({'name': total_unique, 'cnt': total_count})\n",
        "    return vocab_cnt.sort_values('cnt', ascending=False)"
      ],
      "metadata": {
        "id": "tERd85F-2n4u"
      },
      "execution_count": null,
      "outputs": []
    },
    {
      "cell_type": "markdown",
      "source": [
        "## Text_df(예시) 전처리"
      ],
      "metadata": {
        "id": "J9qwoViz3C6x"
      }
    },
    {
      "cell_type": "markdown",
      "source": [
        "### 제목 : 정규표현식으로 한글만 남기기"
      ],
      "metadata": {
        "id": "9-Vc6T653YZW"
      }
    },
    {
      "cell_type": "code",
      "source": [
        "name_list = text_df.name.apply(re_kor)\n",
        "name_list"
      ],
      "metadata": {
        "colab": {
          "base_uri": "https://localhost:8080/"
        },
        "id": "tNLTwvefAcJE",
        "outputId": "91c47e66-7f5e-443c-e5b8-f763dae92233"
      },
      "execution_count": null,
      "outputs": [
        {
          "output_type": "execute_result",
          "data": {
            "text/plain": [
              "0                          [스튜디오, 톰보이, 패딩]\n",
              "1                      [키르시, 리버시블, 패딩, 블랙]\n",
              "2                                  [아이더패딩]\n",
              "3                                 [뱅뱅겨울야상]\n",
              "4                        [그레그노먼, 구스다운, 정품]\n",
              "                       ...                \n",
              "8513    [톰브라운, 밀라노, 스티치, 사선, 금장, 가디건, 네이비]\n",
              "8514             [시리즈, 에피그램, 가디건, 사이즈, 니트]\n",
              "8515           [헤리티지플로스, 가디건, 라이트그레이, 새상품]\n",
              "8516            [구매글, 안데르센, 안데르센, 스키퍼, 블랙]\n",
              "8517         [버버리, 레트로, 클래식, 로고, 네이비, 가디건]\n",
              "Name: name, Length: 8518, dtype: object"
            ]
          },
          "metadata": {},
          "execution_count": 44
        }
      ]
    },
    {
      "cell_type": "markdown",
      "source": [
        "### 제목 단어모음 만들기"
      ],
      "metadata": {
        "id": "Qv5xv7V97chF"
      }
    },
    {
      "cell_type": "code",
      "source": [
        "name_cnt = get_voca_cnt(name_list)\n",
        "name_cnt"
      ],
      "metadata": {
        "colab": {
          "base_uri": "https://localhost:8080/",
          "height": 423
        },
        "id": "nHAwjLUkAf6y",
        "outputId": "91d3beda-d154-4f5b-ae10-bcb8a966bf2c"
      },
      "execution_count": null,
      "outputs": [
        {
          "output_type": "execute_result",
          "data": {
            "text/html": [
              "\n",
              "  <div id=\"df-cdcb6ec9-07ae-4e03-b08a-53ddfbcff931\">\n",
              "    <div class=\"colab-df-container\">\n",
              "      <div>\n",
              "<style scoped>\n",
              "    .dataframe tbody tr th:only-of-type {\n",
              "        vertical-align: middle;\n",
              "    }\n",
              "\n",
              "    .dataframe tbody tr th {\n",
              "        vertical-align: top;\n",
              "    }\n",
              "\n",
              "    .dataframe thead th {\n",
              "        text-align: right;\n",
              "    }\n",
              "</style>\n",
              "<table border=\"1\" class=\"dataframe\">\n",
              "  <thead>\n",
              "    <tr style=\"text-align: right;\">\n",
              "      <th></th>\n",
              "      <th>name</th>\n",
              "      <th>cnt</th>\n",
              "    </tr>\n",
              "  </thead>\n",
              "  <tbody>\n",
              "    <tr>\n",
              "      <th>4142</th>\n",
              "      <td>자켓</td>\n",
              "      <td>938</td>\n",
              "    </tr>\n",
              "    <tr>\n",
              "      <th>4808</th>\n",
              "      <td>코트</td>\n",
              "      <td>854</td>\n",
              "    </tr>\n",
              "    <tr>\n",
              "      <th>5075</th>\n",
              "      <td>투피스</td>\n",
              "      <td>848</td>\n",
              "    </tr>\n",
              "    <tr>\n",
              "      <th>2681</th>\n",
              "      <td>셔츠</td>\n",
              "      <td>833</td>\n",
              "    </tr>\n",
              "    <tr>\n",
              "      <th>2527</th>\n",
              "      <td>새상품</td>\n",
              "      <td>549</td>\n",
              "    </tr>\n",
              "    <tr>\n",
              "      <th>...</th>\n",
              "      <td>...</td>\n",
              "      <td>...</td>\n",
              "    </tr>\n",
              "    <tr>\n",
              "      <th>2478</th>\n",
              "      <td>삭스</td>\n",
              "      <td>1</td>\n",
              "    </tr>\n",
              "    <tr>\n",
              "      <th>2479</th>\n",
              "      <td>삭스블루</td>\n",
              "      <td>1</td>\n",
              "    </tr>\n",
              "    <tr>\n",
              "      <th>2481</th>\n",
              "      <td>산드</td>\n",
              "      <td>1</td>\n",
              "    </tr>\n",
              "    <tr>\n",
              "      <th>2483</th>\n",
              "      <td>산드로마쥬샤넬비비안웨스트우드</td>\n",
              "      <td>1</td>\n",
              "    </tr>\n",
              "    <tr>\n",
              "      <th>5910</th>\n",
              "      <td>힐피거</td>\n",
              "      <td>1</td>\n",
              "    </tr>\n",
              "  </tbody>\n",
              "</table>\n",
              "<p>5911 rows × 2 columns</p>\n",
              "</div>\n",
              "      <button class=\"colab-df-convert\" onclick=\"convertToInteractive('df-cdcb6ec9-07ae-4e03-b08a-53ddfbcff931')\"\n",
              "              title=\"Convert this dataframe to an interactive table.\"\n",
              "              style=\"display:none;\">\n",
              "        \n",
              "  <svg xmlns=\"http://www.w3.org/2000/svg\" height=\"24px\"viewBox=\"0 0 24 24\"\n",
              "       width=\"24px\">\n",
              "    <path d=\"M0 0h24v24H0V0z\" fill=\"none\"/>\n",
              "    <path d=\"M18.56 5.44l.94 2.06.94-2.06 2.06-.94-2.06-.94-.94-2.06-.94 2.06-2.06.94zm-11 1L8.5 8.5l.94-2.06 2.06-.94-2.06-.94L8.5 2.5l-.94 2.06-2.06.94zm10 10l.94 2.06.94-2.06 2.06-.94-2.06-.94-.94-2.06-.94 2.06-2.06.94z\"/><path d=\"M17.41 7.96l-1.37-1.37c-.4-.4-.92-.59-1.43-.59-.52 0-1.04.2-1.43.59L10.3 9.45l-7.72 7.72c-.78.78-.78 2.05 0 2.83L4 21.41c.39.39.9.59 1.41.59.51 0 1.02-.2 1.41-.59l7.78-7.78 2.81-2.81c.8-.78.8-2.07 0-2.86zM5.41 20L4 18.59l7.72-7.72 1.47 1.35L5.41 20z\"/>\n",
              "  </svg>\n",
              "      </button>\n",
              "      \n",
              "  <style>\n",
              "    .colab-df-container {\n",
              "      display:flex;\n",
              "      flex-wrap:wrap;\n",
              "      gap: 12px;\n",
              "    }\n",
              "\n",
              "    .colab-df-convert {\n",
              "      background-color: #E8F0FE;\n",
              "      border: none;\n",
              "      border-radius: 50%;\n",
              "      cursor: pointer;\n",
              "      display: none;\n",
              "      fill: #1967D2;\n",
              "      height: 32px;\n",
              "      padding: 0 0 0 0;\n",
              "      width: 32px;\n",
              "    }\n",
              "\n",
              "    .colab-df-convert:hover {\n",
              "      background-color: #E2EBFA;\n",
              "      box-shadow: 0px 1px 2px rgba(60, 64, 67, 0.3), 0px 1px 3px 1px rgba(60, 64, 67, 0.15);\n",
              "      fill: #174EA6;\n",
              "    }\n",
              "\n",
              "    [theme=dark] .colab-df-convert {\n",
              "      background-color: #3B4455;\n",
              "      fill: #D2E3FC;\n",
              "    }\n",
              "\n",
              "    [theme=dark] .colab-df-convert:hover {\n",
              "      background-color: #434B5C;\n",
              "      box-shadow: 0px 1px 3px 1px rgba(0, 0, 0, 0.15);\n",
              "      filter: drop-shadow(0px 1px 2px rgba(0, 0, 0, 0.3));\n",
              "      fill: #FFFFFF;\n",
              "    }\n",
              "  </style>\n",
              "\n",
              "      <script>\n",
              "        const buttonEl =\n",
              "          document.querySelector('#df-cdcb6ec9-07ae-4e03-b08a-53ddfbcff931 button.colab-df-convert');\n",
              "        buttonEl.style.display =\n",
              "          google.colab.kernel.accessAllowed ? 'block' : 'none';\n",
              "\n",
              "        async function convertToInteractive(key) {\n",
              "          const element = document.querySelector('#df-cdcb6ec9-07ae-4e03-b08a-53ddfbcff931');\n",
              "          const dataTable =\n",
              "            await google.colab.kernel.invokeFunction('convertToInteractive',\n",
              "                                                     [key], {});\n",
              "          if (!dataTable) return;\n",
              "\n",
              "          const docLinkHtml = 'Like what you see? Visit the ' +\n",
              "            '<a target=\"_blank\" href=https://colab.research.google.com/notebooks/data_table.ipynb>data table notebook</a>'\n",
              "            + ' to learn more about interactive tables.';\n",
              "          element.innerHTML = '';\n",
              "          dataTable['output_type'] = 'display_data';\n",
              "          await google.colab.output.renderOutput(dataTable, element);\n",
              "          const docLink = document.createElement('div');\n",
              "          docLink.innerHTML = docLinkHtml;\n",
              "          element.appendChild(docLink);\n",
              "        }\n",
              "      </script>\n",
              "    </div>\n",
              "  </div>\n",
              "  "
            ],
            "text/plain": [
              "                 name  cnt\n",
              "4142               자켓  938\n",
              "4808               코트  854\n",
              "5075              투피스  848\n",
              "2681               셔츠  833\n",
              "2527              새상품  549\n",
              "...               ...  ...\n",
              "2478               삭스    1\n",
              "2479             삭스블루    1\n",
              "2481               산드    1\n",
              "2483  산드로마쥬샤넬비비안웨스트우드    1\n",
              "5910              힐피거    1\n",
              "\n",
              "[5911 rows x 2 columns]"
            ]
          },
          "metadata": {},
          "execution_count": 47
        }
      ]
    },
    {
      "cell_type": "markdown",
      "source": [
        "### 키워드 : \",\" 기준으로 구분해주기"
      ],
      "metadata": {
        "id": "UM3LgSlj3cWa"
      }
    },
    {
      "cell_type": "code",
      "source": [
        "keyword_list = text_df.keyword.fillna('').apply(lambda x: x.split(','))\n",
        "keyword_list"
      ],
      "metadata": {
        "colab": {
          "base_uri": "https://localhost:8080/"
        },
        "id": "ETR2Ec1W3Xuk",
        "outputId": "e2b726bc-c893-4a03-efb6-447e5fc041bd"
      },
      "execution_count": null,
      "outputs": [
        {
          "output_type": "execute_result",
          "data": {
            "text/plain": [
              "0                [스튜디오톰보이, 노스페이스, 뉴발란스, 숏패딩, 패딩]\n",
              "1                     [키르시, 키르시패딩, 미스치프, 미스치프패딩]\n",
              "2                                    [롱패딩, 패딩점퍼]\n",
              "3                  [90, 겨울잠바, 겨울점퍼, 여성패딩, 덕다운자켓]\n",
              "4                                           [95]\n",
              "                          ...                   \n",
              "8513    [톰브라운, 톰브라운가디건, 밀라노스티치금장, 가디건, 톰브라운3사이즈]\n",
              "8514                                    [사이즈100]\n",
              "8515                                         [S]\n",
              "8516                [안데르센, 안데르센안데르센, L, XL, 스키퍼]\n",
              "8517          [버버리100, 버버리가디건, 버버리, 가디건100, 100]\n",
              "Name: keyword, Length: 8518, dtype: object"
            ]
          },
          "metadata": {},
          "execution_count": 46
        }
      ]
    },
    {
      "cell_type": "markdown",
      "source": [
        "### 제목 단어모음 만들기"
      ],
      "metadata": {
        "id": "EZ00xUBmRgSx"
      }
    },
    {
      "cell_type": "code",
      "source": [
        "keyword_cnt = get_voca_cnt(keyword_list)\n",
        "keyword_cnt"
      ],
      "metadata": {
        "colab": {
          "base_uri": "https://localhost:8080/",
          "height": 423
        },
        "id": "uqvdEEZh-s9q",
        "outputId": "fea740d0-cff1-44eb-aff0-b6c6121b0ca8"
      },
      "execution_count": null,
      "outputs": [
        {
          "output_type": "execute_result",
          "data": {
            "text/html": [
              "\n",
              "  <div id=\"df-f276f8c1-31b8-4632-9700-29a653535303\">\n",
              "    <div class=\"colab-df-container\">\n",
              "      <div>\n",
              "<style scoped>\n",
              "    .dataframe tbody tr th:only-of-type {\n",
              "        vertical-align: middle;\n",
              "    }\n",
              "\n",
              "    .dataframe tbody tr th {\n",
              "        vertical-align: top;\n",
              "    }\n",
              "\n",
              "    .dataframe thead th {\n",
              "        text-align: right;\n",
              "    }\n",
              "</style>\n",
              "<table border=\"1\" class=\"dataframe\">\n",
              "  <thead>\n",
              "    <tr style=\"text-align: right;\">\n",
              "      <th></th>\n",
              "      <th>name</th>\n",
              "      <th>cnt</th>\n",
              "    </tr>\n",
              "  </thead>\n",
              "  <tbody>\n",
              "    <tr>\n",
              "      <th>7635</th>\n",
              "      <td>투피스</td>\n",
              "      <td>705</td>\n",
              "    </tr>\n",
              "    <tr>\n",
              "      <th>7246</th>\n",
              "      <td>코트</td>\n",
              "      <td>531</td>\n",
              "    </tr>\n",
              "    <tr>\n",
              "      <th>6452</th>\n",
              "      <td>자켓</td>\n",
              "      <td>528</td>\n",
              "    </tr>\n",
              "    <tr>\n",
              "      <th>4454</th>\n",
              "      <td>셔츠</td>\n",
              "      <td>373</td>\n",
              "    </tr>\n",
              "    <tr>\n",
              "      <th>2581</th>\n",
              "      <td>롱코트</td>\n",
              "      <td>284</td>\n",
              "    </tr>\n",
              "    <tr>\n",
              "      <th>...</th>\n",
              "      <td>...</td>\n",
              "      <td>...</td>\n",
              "    </tr>\n",
              "    <tr>\n",
              "      <th>4754</th>\n",
              "      <td>스티치</td>\n",
              "      <td>1</td>\n",
              "    </tr>\n",
              "    <tr>\n",
              "      <th>4753</th>\n",
              "      <td>스트링투피스</td>\n",
              "      <td>1</td>\n",
              "    </tr>\n",
              "    <tr>\n",
              "      <th>4752</th>\n",
              "      <td>스트링코트</td>\n",
              "      <td>1</td>\n",
              "    </tr>\n",
              "    <tr>\n",
              "      <th>4751</th>\n",
              "      <td>스트링스커트</td>\n",
              "      <td>1</td>\n",
              "    </tr>\n",
              "    <tr>\n",
              "      <th>8722</th>\n",
              "      <td>힙스터</td>\n",
              "      <td>1</td>\n",
              "    </tr>\n",
              "  </tbody>\n",
              "</table>\n",
              "<p>8723 rows × 2 columns</p>\n",
              "</div>\n",
              "      <button class=\"colab-df-convert\" onclick=\"convertToInteractive('df-f276f8c1-31b8-4632-9700-29a653535303')\"\n",
              "              title=\"Convert this dataframe to an interactive table.\"\n",
              "              style=\"display:none;\">\n",
              "        \n",
              "  <svg xmlns=\"http://www.w3.org/2000/svg\" height=\"24px\"viewBox=\"0 0 24 24\"\n",
              "       width=\"24px\">\n",
              "    <path d=\"M0 0h24v24H0V0z\" fill=\"none\"/>\n",
              "    <path d=\"M18.56 5.44l.94 2.06.94-2.06 2.06-.94-2.06-.94-.94-2.06-.94 2.06-2.06.94zm-11 1L8.5 8.5l.94-2.06 2.06-.94-2.06-.94L8.5 2.5l-.94 2.06-2.06.94zm10 10l.94 2.06.94-2.06 2.06-.94-2.06-.94-.94-2.06-.94 2.06-2.06.94z\"/><path d=\"M17.41 7.96l-1.37-1.37c-.4-.4-.92-.59-1.43-.59-.52 0-1.04.2-1.43.59L10.3 9.45l-7.72 7.72c-.78.78-.78 2.05 0 2.83L4 21.41c.39.39.9.59 1.41.59.51 0 1.02-.2 1.41-.59l7.78-7.78 2.81-2.81c.8-.78.8-2.07 0-2.86zM5.41 20L4 18.59l7.72-7.72 1.47 1.35L5.41 20z\"/>\n",
              "  </svg>\n",
              "      </button>\n",
              "      \n",
              "  <style>\n",
              "    .colab-df-container {\n",
              "      display:flex;\n",
              "      flex-wrap:wrap;\n",
              "      gap: 12px;\n",
              "    }\n",
              "\n",
              "    .colab-df-convert {\n",
              "      background-color: #E8F0FE;\n",
              "      border: none;\n",
              "      border-radius: 50%;\n",
              "      cursor: pointer;\n",
              "      display: none;\n",
              "      fill: #1967D2;\n",
              "      height: 32px;\n",
              "      padding: 0 0 0 0;\n",
              "      width: 32px;\n",
              "    }\n",
              "\n",
              "    .colab-df-convert:hover {\n",
              "      background-color: #E2EBFA;\n",
              "      box-shadow: 0px 1px 2px rgba(60, 64, 67, 0.3), 0px 1px 3px 1px rgba(60, 64, 67, 0.15);\n",
              "      fill: #174EA6;\n",
              "    }\n",
              "\n",
              "    [theme=dark] .colab-df-convert {\n",
              "      background-color: #3B4455;\n",
              "      fill: #D2E3FC;\n",
              "    }\n",
              "\n",
              "    [theme=dark] .colab-df-convert:hover {\n",
              "      background-color: #434B5C;\n",
              "      box-shadow: 0px 1px 3px 1px rgba(0, 0, 0, 0.15);\n",
              "      filter: drop-shadow(0px 1px 2px rgba(0, 0, 0, 0.3));\n",
              "      fill: #FFFFFF;\n",
              "    }\n",
              "  </style>\n",
              "\n",
              "      <script>\n",
              "        const buttonEl =\n",
              "          document.querySelector('#df-f276f8c1-31b8-4632-9700-29a653535303 button.colab-df-convert');\n",
              "        buttonEl.style.display =\n",
              "          google.colab.kernel.accessAllowed ? 'block' : 'none';\n",
              "\n",
              "        async function convertToInteractive(key) {\n",
              "          const element = document.querySelector('#df-f276f8c1-31b8-4632-9700-29a653535303');\n",
              "          const dataTable =\n",
              "            await google.colab.kernel.invokeFunction('convertToInteractive',\n",
              "                                                     [key], {});\n",
              "          if (!dataTable) return;\n",
              "\n",
              "          const docLinkHtml = 'Like what you see? Visit the ' +\n",
              "            '<a target=\"_blank\" href=https://colab.research.google.com/notebooks/data_table.ipynb>data table notebook</a>'\n",
              "            + ' to learn more about interactive tables.';\n",
              "          element.innerHTML = '';\n",
              "          dataTable['output_type'] = 'display_data';\n",
              "          await google.colab.output.renderOutput(dataTable, element);\n",
              "          const docLink = document.createElement('div');\n",
              "          docLink.innerHTML = docLinkHtml;\n",
              "          element.appendChild(docLink);\n",
              "        }\n",
              "      </script>\n",
              "    </div>\n",
              "  </div>\n",
              "  "
            ],
            "text/plain": [
              "        name  cnt\n",
              "7635     투피스  705\n",
              "7246      코트  531\n",
              "6452      자켓  528\n",
              "4454      셔츠  373\n",
              "2581     롱코트  284\n",
              "...      ...  ...\n",
              "4754     스티치    1\n",
              "4753  스트링투피스    1\n",
              "4752   스트링코트    1\n",
              "4751  스트링스커트    1\n",
              "8722     힙스터    1\n",
              "\n",
              "[8723 rows x 2 columns]"
            ]
          },
          "metadata": {},
          "execution_count": 49
        }
      ]
    },
    {
      "cell_type": "markdown",
      "source": [
        "## 제목-키워드 단어 모음 만들기"
      ],
      "metadata": {
        "id": "1E7tqFWsCwaf"
      }
    },
    {
      "cell_type": "code",
      "source": [
        "total_vocab = pd.merge(name_cnt, keyword_cnt,how='outer', on='name').fillna(0)\n",
        "total_vocab['cnt'] = (total_vocab['cnt_x'] + total_vocab['cnt_y']).astype(int)\n",
        "total_vocab = total_vocab[['name', 'cnt']]\n",
        "total_vocab"
      ],
      "metadata": {
        "colab": {
          "base_uri": "https://localhost:8080/",
          "height": 423
        },
        "id": "UF0uM30KCCVQ",
        "outputId": "9cb82c32-c23f-4018-af79-aa9b160cff40"
      },
      "execution_count": null,
      "outputs": [
        {
          "output_type": "execute_result",
          "data": {
            "text/html": [
              "\n",
              "  <div id=\"df-c63c037e-6f4c-4a69-886f-49f39c620a98\">\n",
              "    <div class=\"colab-df-container\">\n",
              "      <div>\n",
              "<style scoped>\n",
              "    .dataframe tbody tr th:only-of-type {\n",
              "        vertical-align: middle;\n",
              "    }\n",
              "\n",
              "    .dataframe tbody tr th {\n",
              "        vertical-align: top;\n",
              "    }\n",
              "\n",
              "    .dataframe thead th {\n",
              "        text-align: right;\n",
              "    }\n",
              "</style>\n",
              "<table border=\"1\" class=\"dataframe\">\n",
              "  <thead>\n",
              "    <tr style=\"text-align: right;\">\n",
              "      <th></th>\n",
              "      <th>name</th>\n",
              "      <th>cnt</th>\n",
              "    </tr>\n",
              "  </thead>\n",
              "  <tbody>\n",
              "    <tr>\n",
              "      <th>0</th>\n",
              "      <td>자켓</td>\n",
              "      <td>1466</td>\n",
              "    </tr>\n",
              "    <tr>\n",
              "      <th>1</th>\n",
              "      <td>코트</td>\n",
              "      <td>1385</td>\n",
              "    </tr>\n",
              "    <tr>\n",
              "      <th>2</th>\n",
              "      <td>투피스</td>\n",
              "      <td>1553</td>\n",
              "    </tr>\n",
              "    <tr>\n",
              "      <th>3</th>\n",
              "      <td>셔츠</td>\n",
              "      <td>1206</td>\n",
              "    </tr>\n",
              "    <tr>\n",
              "      <th>4</th>\n",
              "      <td>새상품</td>\n",
              "      <td>595</td>\n",
              "    </tr>\n",
              "    <tr>\n",
              "      <th>...</th>\n",
              "      <td>...</td>\n",
              "      <td>...</td>\n",
              "    </tr>\n",
              "    <tr>\n",
              "      <th>11989</th>\n",
              "      <td>스티치자켓</td>\n",
              "      <td>1</td>\n",
              "    </tr>\n",
              "    <tr>\n",
              "      <th>11990</th>\n",
              "      <td>스티치원피스</td>\n",
              "      <td>1</td>\n",
              "    </tr>\n",
              "    <tr>\n",
              "      <th>11991</th>\n",
              "      <td>스트링투피스</td>\n",
              "      <td>1</td>\n",
              "    </tr>\n",
              "    <tr>\n",
              "      <th>11992</th>\n",
              "      <td>스트링스커트</td>\n",
              "      <td>1</td>\n",
              "    </tr>\n",
              "    <tr>\n",
              "      <th>11993</th>\n",
              "      <td>힙스터</td>\n",
              "      <td>1</td>\n",
              "    </tr>\n",
              "  </tbody>\n",
              "</table>\n",
              "<p>11994 rows × 2 columns</p>\n",
              "</div>\n",
              "      <button class=\"colab-df-convert\" onclick=\"convertToInteractive('df-c63c037e-6f4c-4a69-886f-49f39c620a98')\"\n",
              "              title=\"Convert this dataframe to an interactive table.\"\n",
              "              style=\"display:none;\">\n",
              "        \n",
              "  <svg xmlns=\"http://www.w3.org/2000/svg\" height=\"24px\"viewBox=\"0 0 24 24\"\n",
              "       width=\"24px\">\n",
              "    <path d=\"M0 0h24v24H0V0z\" fill=\"none\"/>\n",
              "    <path d=\"M18.56 5.44l.94 2.06.94-2.06 2.06-.94-2.06-.94-.94-2.06-.94 2.06-2.06.94zm-11 1L8.5 8.5l.94-2.06 2.06-.94-2.06-.94L8.5 2.5l-.94 2.06-2.06.94zm10 10l.94 2.06.94-2.06 2.06-.94-2.06-.94-.94-2.06-.94 2.06-2.06.94z\"/><path d=\"M17.41 7.96l-1.37-1.37c-.4-.4-.92-.59-1.43-.59-.52 0-1.04.2-1.43.59L10.3 9.45l-7.72 7.72c-.78.78-.78 2.05 0 2.83L4 21.41c.39.39.9.59 1.41.59.51 0 1.02-.2 1.41-.59l7.78-7.78 2.81-2.81c.8-.78.8-2.07 0-2.86zM5.41 20L4 18.59l7.72-7.72 1.47 1.35L5.41 20z\"/>\n",
              "  </svg>\n",
              "      </button>\n",
              "      \n",
              "  <style>\n",
              "    .colab-df-container {\n",
              "      display:flex;\n",
              "      flex-wrap:wrap;\n",
              "      gap: 12px;\n",
              "    }\n",
              "\n",
              "    .colab-df-convert {\n",
              "      background-color: #E8F0FE;\n",
              "      border: none;\n",
              "      border-radius: 50%;\n",
              "      cursor: pointer;\n",
              "      display: none;\n",
              "      fill: #1967D2;\n",
              "      height: 32px;\n",
              "      padding: 0 0 0 0;\n",
              "      width: 32px;\n",
              "    }\n",
              "\n",
              "    .colab-df-convert:hover {\n",
              "      background-color: #E2EBFA;\n",
              "      box-shadow: 0px 1px 2px rgba(60, 64, 67, 0.3), 0px 1px 3px 1px rgba(60, 64, 67, 0.15);\n",
              "      fill: #174EA6;\n",
              "    }\n",
              "\n",
              "    [theme=dark] .colab-df-convert {\n",
              "      background-color: #3B4455;\n",
              "      fill: #D2E3FC;\n",
              "    }\n",
              "\n",
              "    [theme=dark] .colab-df-convert:hover {\n",
              "      background-color: #434B5C;\n",
              "      box-shadow: 0px 1px 3px 1px rgba(0, 0, 0, 0.15);\n",
              "      filter: drop-shadow(0px 1px 2px rgba(0, 0, 0, 0.3));\n",
              "      fill: #FFFFFF;\n",
              "    }\n",
              "  </style>\n",
              "\n",
              "      <script>\n",
              "        const buttonEl =\n",
              "          document.querySelector('#df-c63c037e-6f4c-4a69-886f-49f39c620a98 button.colab-df-convert');\n",
              "        buttonEl.style.display =\n",
              "          google.colab.kernel.accessAllowed ? 'block' : 'none';\n",
              "\n",
              "        async function convertToInteractive(key) {\n",
              "          const element = document.querySelector('#df-c63c037e-6f4c-4a69-886f-49f39c620a98');\n",
              "          const dataTable =\n",
              "            await google.colab.kernel.invokeFunction('convertToInteractive',\n",
              "                                                     [key], {});\n",
              "          if (!dataTable) return;\n",
              "\n",
              "          const docLinkHtml = 'Like what you see? Visit the ' +\n",
              "            '<a target=\"_blank\" href=https://colab.research.google.com/notebooks/data_table.ipynb>data table notebook</a>'\n",
              "            + ' to learn more about interactive tables.';\n",
              "          element.innerHTML = '';\n",
              "          dataTable['output_type'] = 'display_data';\n",
              "          await google.colab.output.renderOutput(dataTable, element);\n",
              "          const docLink = document.createElement('div');\n",
              "          docLink.innerHTML = docLinkHtml;\n",
              "          element.appendChild(docLink);\n",
              "        }\n",
              "      </script>\n",
              "    </div>\n",
              "  </div>\n",
              "  "
            ],
            "text/plain": [
              "         name   cnt\n",
              "0          자켓  1466\n",
              "1          코트  1385\n",
              "2         투피스  1553\n",
              "3          셔츠  1206\n",
              "4         새상품   595\n",
              "...       ...   ...\n",
              "11989   스티치자켓     1\n",
              "11990  스티치원피스     1\n",
              "11991  스트링투피스     1\n",
              "11992  스트링스커트     1\n",
              "11993     힙스터     1\n",
              "\n",
              "[11994 rows x 2 columns]"
            ]
          },
          "metadata": {},
          "execution_count": 63
        }
      ]
    },
    {
      "cell_type": "markdown",
      "source": [
        "### 3번 이상 언급된 단어만 ?"
      ],
      "metadata": {
        "id": "W_8TvbTjRiEw"
      }
    },
    {
      "cell_type": "code",
      "source": [
        "total_vocab= total_vocab[total_vocab.cnt>2]"
      ],
      "metadata": {
        "id": "kbsV2QDWD0s0"
      },
      "execution_count": null,
      "outputs": []
    },
    {
      "cell_type": "markdown",
      "source": [
        "### 카테고리"
      ],
      "metadata": {
        "id": "w85kQL0v4EHS"
      }
    },
    {
      "cell_type": "markdown",
      "source": [
        "일단 카테고리 2만... 카테고리 3도 처리해주면 좋음"
      ],
      "metadata": {
        "id": "LWl65BRjRnNB"
      }
    },
    {
      "cell_type": "code",
      "source": [
        "cat_list = text_df.content_cat_2.apply(lambda x: [cat.replace(' ', '') for cat in x.split('/')])"
      ],
      "metadata": {
        "id": "9c0p_tDOJAJb"
      },
      "execution_count": null,
      "outputs": []
    },
    {
      "cell_type": "markdown",
      "source": [
        "## Description : Kkma, re 😢"
      ],
      "metadata": {
        "id": "htEDmJgK5d1B"
      }
    },
    {
      "cell_type": "code",
      "source": [
        "kkma = Kkma()"
      ],
      "metadata": {
        "id": "QKtBiDsP6RTE"
      },
      "execution_count": null,
      "outputs": []
    },
    {
      "cell_type": "code",
      "source": [
        "# kkma로 명사 추출 후 단어 모음에 있는 단어만 남기기\n",
        "def kkma_voca(sentence):\n",
        "    voca_list = kkma.nouns(sentence)\n",
        "    return [voca for voca in voca_list if voca in total_vocab.name.tolist()]\n",
        "\n",
        "# 정규표현식으로 전처리 후 단어 모음에 있는 단어만 남기기\n",
        "def re_voca(sentence):\n",
        "    voca_list = re_kor(sentence)\n",
        "    return [voca for voca in voca_list if voca in total_vocab.name.tolist()]\n",
        "\n",
        "# kkma, 정규표현식으로 나온 각 리스트 합쳐서 한번에\n",
        "def re_kkma_voca(sentence):\n",
        "    voca_list1 = kkma.nouns(sentence)\n",
        "    voca_list2 = re_kor(sentence)\n",
        "    voca_list = voca_list1 + voca_list2\n",
        "    return [voca for voca in voca_list if voca in total_vocab.name.tolist()]"
      ],
      "metadata": {
        "id": "Co5z21bf6BD8"
      },
      "execution_count": null,
      "outputs": []
    },
    {
      "cell_type": "markdown",
      "source": [
        "- 상세설명 결측 채우기"
      ],
      "metadata": {
        "id": "GTbG23NdSAyQ"
      }
    },
    {
      "cell_type": "code",
      "source": [
        "text_df.description = text_df.description.fillna('!')"
      ],
      "metadata": {
        "id": "sJAwYOSiEav7"
      },
      "execution_count": null,
      "outputs": []
    },
    {
      "cell_type": "markdown",
      "source": [
        "- 전처리 진행"
      ],
      "metadata": {
        "id": "t4w7LjVpSMrw"
      }
    },
    {
      "cell_type": "code",
      "source": [
        "# kkma 전처리\n",
        "desc_list = text_df.description.apply(kkma_voca)\n",
        "# # kkma + re 전처리\n",
        "# desc_list = text_df.description.apply(re_kkma_voca)"
      ],
      "metadata": {
        "id": "hEGfBKUBGiy1"
      },
      "execution_count": null,
      "outputs": []
    },
    {
      "cell_type": "markdown",
      "source": [
        "# Word2Vec 학습"
      ],
      "metadata": {
        "id": "BHvd1Cw0R-64"
      }
    },
    {
      "cell_type": "markdown",
      "source": [
        "### 각 컨텐츠마다 한 문장 만들기(이름 + 키워드 + 상세설명 + 카테고리)"
      ],
      "metadata": {
        "id": "dSbfUiywSfSf"
      }
    },
    {
      "cell_type": "code",
      "source": [
        "total_sentences = name_list + keyword_list + desc_list + cat_list\n",
        "total_sentences"
      ],
      "metadata": {
        "colab": {
          "base_uri": "https://localhost:8080/"
        },
        "id": "zS7Rkr_uHG3X",
        "outputId": "bbe4645e-9438-4afc-f640-6084d9da8c4d"
      },
      "execution_count": null,
      "outputs": [
        {
          "output_type": "execute_result",
          "data": {
            "text/plain": [
              "0       [스튜디오, 톰보이, 패딩, 스튜디오톰보이, 노스페이스, 뉴발란스, 숏패딩, 패딩,...\n",
              "1       [키르시, 리버시블, 패딩, 블랙, 키르시, 키르시패딩, 미스치프, 미스치프패딩, ...\n",
              "2       [아이더패딩, 롱패딩, 패딩점퍼, 만, 원, 구매, 드라이, 번, 상태, 옷, 패딩...\n",
              "3       [뱅뱅겨울야상, 90, 겨울잠바, 겨울점퍼, 여성패딩, 덕다운자켓, 사이즈, 90,...\n",
              "4       [그레그노먼, 구스다운, 정품, 95, 여성, 여성의류, 상품, 정품, 사이즈, 9...\n",
              "                              ...                        \n",
              "8513    [톰브라운, 밀라노, 스티치, 사선, 금장, 가디건, 네이비, 톰브라운, 톰브라운가...\n",
              "8514    [시리즈, 에피그램, 가디건, 사이즈, 니트, 사이즈100, 시리즈, 제품, 숄, ...\n",
              "8515    [헤리티지플로스, 가디건, 라이트그레이, 새상품, S, 새, 새상품, 상품, 사이즈...\n",
              "8516    [구매글, 안데르센, 안데르센, 스키퍼, 블랙, 안데르센, 안데르센안데르센, L, ...\n",
              "8517    [버버리, 레트로, 클래식, 로고, 네이비, 가디건, 버버리100, 버버리가디건, ...\n",
              "Length: 8518, dtype: object"
            ]
          },
          "metadata": {},
          "execution_count": 120
        }
      ]
    },
    {
      "cell_type": "code",
      "source": [
        "print(text_df.iloc[0])\n",
        "print(total_sentences[0])"
      ],
      "metadata": {
        "colab": {
          "base_uri": "https://localhost:8080/"
        },
        "id": "-R_V4fNJJTdn",
        "outputId": "eea323d6-694e-4276-a4b4-8029ac076c47"
      },
      "execution_count": null,
      "outputs": [
        {
          "output_type": "stream",
          "name": "stdout",
          "text": [
            "pid                                                      160963708\n",
            "name                                                   스튜디오 톰보이 패딩\n",
            "keyword                                  스튜디오톰보이,노스페이스,뉴발란스,숏패딩,패딩\n",
            "description      스튜디오 톰보이 패딩입니다\\n\\n색상은 네이비 색상이고\\n\\n남녀공용 프리사이즈 이...\n",
            "content_cat_1                                                 여성의류\n",
            "content_cat_2                                                패딩/점퍼\n",
            "content_cat_3                                            기타(패딩/점퍼)\n",
            "Name: 0, dtype: object\n",
            "['스튜디오', '톰보이', '패딩', '스튜디오톰보이', '노스페이스', '뉴발란스', '숏패딩', '패딩', '스튜디오', '톰보이', '패딩', '색상', '네이비', '남녀공용', '공용', '프리', '프리사이즈', '사이즈', '3', '번', '착용', '드라이', '드라이클리닝', '상태', '코듀로이', '코듀로이', '숏', '점퍼', '원가', '만', '원', '포함', '가격', '패딩', '점퍼']\n"
          ]
        }
      ]
    },
    {
      "cell_type": "markdown",
      "source": [
        "## Word2Vec 학습"
      ],
      "metadata": {
        "id": "qzmzvFiqSmkL"
      }
    },
    {
      "cell_type": "code",
      "source": [
        "from gensim.models import Word2Vec\n",
        "\n",
        "model = Word2Vec(sentences = total_sentences, size = 100, window = 5, min_count = 1, workers = 4, sg = 1)"
      ],
      "metadata": {
        "id": "iD4iF7l9myU4"
      },
      "execution_count": null,
      "outputs": []
    },
    {
      "cell_type": "markdown",
      "source": [
        "## 유사도 확인"
      ],
      "metadata": {
        "id": "yOsfzQHfSowG"
      }
    },
    {
      "cell_type": "code",
      "source": [
        "print(name_list[0])\n",
        "print(keyword_list[0])\n",
        "model.wv.n_similarity(name_list[0], keyword_list[0])"
      ],
      "metadata": {
        "colab": {
          "base_uri": "https://localhost:8080/"
        },
        "id": "AeICmhaB5Lkb",
        "outputId": "9c28a57b-9313-4201-e5ad-e25fd729dbaa"
      },
      "execution_count": null,
      "outputs": [
        {
          "output_type": "stream",
          "name": "stdout",
          "text": [
            "['스튜디오', '톰보이', '패딩']\n",
            "['스튜디오톰보이', '노스페이스', '뉴발란스', '숏패딩', '패딩']\n"
          ]
        },
        {
          "output_type": "execute_result",
          "data": {
            "text/plain": [
              "0.88625646"
            ]
          },
          "metadata": {},
          "execution_count": 148
        }
      ]
    },
    {
      "cell_type": "code",
      "source": [
        "i, j = 130, -8\n",
        "print(name_list.iloc[i])\n",
        "print(keyword_list.iloc[j])\n",
        "model.wv.n_similarity(name_list.iloc[i], keyword_list.iloc[j])"
      ],
      "metadata": {
        "colab": {
          "base_uri": "https://localhost:8080/"
        },
        "id": "nfo2u4dSKOo1",
        "outputId": "86798caa-cfb3-4693-df23-646311c8bba8"
      },
      "execution_count": null,
      "outputs": [
        {
          "output_type": "stream",
          "name": "stdout",
          "text": [
            "['맥케이지', '여성패딩', '사이즈']\n",
            "['꼼데가르송', '꼼데가르송가디건', '꼼데가르송반팔', '꼼데가르송컨버스', '꼼데가르송셔츠']\n"
          ]
        },
        {
          "output_type": "execute_result",
          "data": {
            "text/plain": [
              "0.83096015"
            ]
          },
          "metadata": {},
          "execution_count": 163
        }
      ]
    },
    {
      "cell_type": "code",
      "source": [
        "for i in range(50):\n",
        "    print(name_list.iloc[8104])\n",
        "    print(keyword_list.iloc[i])\n",
        "    print(desc_list.iloc[i])\n",
        "    print('제목-키워드', model.wv.n_similarity(name_list.iloc[8104], keyword_list.iloc[i]))\n",
        "    try:\n",
        "        print('제목-설명', model.wv.n_similarity(name_list.iloc[8104], desc_list.iloc[i]))\n",
        "    except:\n",
        "        pass\n",
        "    print('----------------------------------------------------------------------------')\n"
      ],
      "metadata": {
        "id": "HU1lEypVKGYR"
      },
      "execution_count": null,
      "outputs": []
    },
    {
      "cell_type": "markdown",
      "source": [
        "## FastText 😺"
      ],
      "metadata": {
        "id": "a6CyoxfEZhT7"
      }
    },
    {
      "cell_type": "markdown",
      "source": [
        "새로운 단어에 대응 가능"
      ],
      "metadata": {
        "id": "wWQUFl0VZikN"
      }
    },
    {
      "cell_type": "code",
      "source": [
        "from gensim.models import FastText\n",
        "model_ft = FastText(size=100, window=3, min_count=5)\n",
        "model_ft.build_vocab(sentences=total_sentences)\n",
        "model_ft.train(sentences=total_sentences, total_examples=len(total_sentences), epochs=10)"
      ],
      "metadata": {
        "id": "cc6O5GkVVcVT"
      },
      "execution_count": null,
      "outputs": []
    },
    {
      "cell_type": "code",
      "source": [
        "print(name_list[0])\n",
        "print(keyword_list[0])\n",
        "model_ft.wv.n_similarity(name_list[0], keyword_list[0])"
      ],
      "metadata": {
        "colab": {
          "base_uri": "https://localhost:8080/"
        },
        "id": "KdvMb3NuVcXh",
        "outputId": "43b17d9a-affd-47b0-e772-c378e7a86260"
      },
      "execution_count": null,
      "outputs": [
        {
          "output_type": "stream",
          "name": "stdout",
          "text": [
            "['스튜디오', '톰보이', '패딩']\n",
            "['스튜디오톰보이', '노스페이스', '뉴발란스', '숏패딩', '패딩']\n"
          ]
        },
        {
          "output_type": "execute_result",
          "data": {
            "text/plain": [
              "0.858155"
            ]
          },
          "metadata": {},
          "execution_count": 284
        }
      ]
    },
    {
      "cell_type": "code",
      "source": [
        "print(name_list[0])\n",
        "print(keyword_list[4000])\n",
        "model_ft.wv.n_similarity(name_list[0], keyword_list[4000])"
      ],
      "metadata": {
        "colab": {
          "base_uri": "https://localhost:8080/"
        },
        "id": "GQd8MbUfX2uZ",
        "outputId": "c220d76b-0ac5-4a80-b8fa-a077d275d91a"
      },
      "execution_count": null,
      "outputs": [
        {
          "output_type": "stream",
          "name": "stdout",
          "text": [
            "['스튜디오', '톰보이', '패딩']\n",
            "['free']\n"
          ]
        },
        {
          "output_type": "execute_result",
          "data": {
            "text/plain": [
              "0.49088758"
            ]
          },
          "metadata": {},
          "execution_count": 285
        }
      ]
    },
    {
      "cell_type": "code",
      "source": [
        "model_ft.wv.similarity('나이키', '아디다스')"
      ],
      "metadata": {
        "colab": {
          "base_uri": "https://localhost:8080/"
        },
        "id": "S_y3Zj8tXeVP",
        "outputId": "27f6c990-7a07-4b39-8772-5965f2812d6e"
      },
      "execution_count": null,
      "outputs": [
        {
          "output_type": "execute_result",
          "data": {
            "text/plain": [
              "0.98482955"
            ]
          },
          "metadata": {},
          "execution_count": 286
        }
      ]
    },
    {
      "cell_type": "code",
      "source": [
        "model_ft.wv.n_similarity(['아디다스', '패딩'], ['꼼데가르송', '가디건'])"
      ],
      "metadata": {
        "colab": {
          "base_uri": "https://localhost:8080/"
        },
        "id": "5evaJ-OLYTLS",
        "outputId": "ea1791a7-02e2-48ff-83e5-c185f814dd31"
      },
      "execution_count": null,
      "outputs": [
        {
          "output_type": "execute_result",
          "data": {
            "text/plain": [
              "0.6543265"
            ]
          },
          "metadata": {},
          "execution_count": 297
        }
      ]
    },
    {
      "cell_type": "code",
      "source": [
        "model_ft.wv.n_similarity(['아디다스패딩나이키'], ['나이키', '아디다스', '패딩'])"
      ],
      "metadata": {
        "colab": {
          "base_uri": "https://localhost:8080/"
        },
        "id": "X1twWCcMYbJw",
        "outputId": "2c30e0e7-7371-4247-9cc5-622416dbea37"
      },
      "execution_count": null,
      "outputs": [
        {
          "output_type": "execute_result",
          "data": {
            "text/plain": [
              "0.942635"
            ]
          },
          "metadata": {},
          "execution_count": 298
        }
      ]
    },
    {
      "cell_type": "code",
      "source": [
        ""
      ],
      "metadata": {
        "id": "OX5uUUbtiGVA"
      },
      "execution_count": null,
      "outputs": []
    }
  ]
}