{
  "cells": [
    {
      "cell_type": "markdown",
      "metadata": {
        "id": "view-in-github",
        "colab_type": "text"
      },
      "source": [
        "<a href=\"https://colab.research.google.com/github/taeyang1224/Final_Project/blob/develop/2.Model_code/DeepFM_%ED%83%9C%EC%96%91.ipynb\" target=\"_parent\"><img src=\"https://colab.research.google.com/assets/colab-badge.svg\" alt=\"Open In Colab\"/></a>"
      ]
    },
    {
      "cell_type": "markdown",
      "metadata": {
        "id": "kJDerPbzuu9Z"
      },
      "source": [
        "# 데이터 불러오기"
      ]
    },
    {
      "cell_type": "code",
      "execution_count": null,
      "metadata": {
        "colab": {
          "base_uri": "https://localhost:8080/"
        },
        "id": "LhSbMb8_utKy",
        "outputId": "27aefb74-6bcf-44b1-e1f6-8bc60383cc49"
      },
      "outputs": [
        {
          "output_type": "stream",
          "name": "stdout",
          "text": [
            "Mounted at /gdrive\n"
          ]
        }
      ],
      "source": [
        "from google.colab import drive\n",
        "drive.mount('/gdrive')"
      ]
    },
    {
      "cell_type": "code",
      "execution_count": null,
      "metadata": {
        "colab": {
          "base_uri": "https://localhost:8080/"
        },
        "id": "Swfjd4UIu5SL",
        "outputId": "da0b4374-bab5-4dbc-87d2-797c8e9a64df"
      },
      "outputs": [
        {
          "output_type": "stream",
          "name": "stdout",
          "text": [
            "/gdrive/.shortcut-targets-by-id/15_BxZVEQYCdGCGiQ5nexpWPc1cgHVe4w/3조\n"
          ]
        }
      ],
      "source": [
        "cd '../gdrive/MyDrive/3조'"
      ]
    },
    {
      "cell_type": "markdown",
      "metadata": {
        "id": "oxkMy15e9ucR"
      },
      "source": [
        "# DeepFM"
      ]
    },
    {
      "cell_type": "code",
      "execution_count": null,
      "metadata": {
        "colab": {
          "base_uri": "https://localhost:8080/"
        },
        "id": "L9elN7Qr39Bp",
        "outputId": "68b0d06b-5ab7-4361-a490-7839d14cd787"
      },
      "outputs": [
        {
          "output_type": "stream",
          "name": "stdout",
          "text": [
            "Collecting deepctr-torch\n",
            "  Downloading deepctr_torch-0.2.7-py3-none-any.whl (70 kB)\n",
            "\u001b[?25l\r\u001b[K     |████▊                           | 10 kB 17.7 MB/s eta 0:00:01\r\u001b[K     |█████████▍                      | 20 kB 16.6 MB/s eta 0:00:01\r\u001b[K     |██████████████                  | 30 kB 10.8 MB/s eta 0:00:01\r\u001b[K     |██████████████████▊             | 40 kB 9.1 MB/s eta 0:00:01\r\u001b[K     |███████████████████████▍        | 51 kB 5.3 MB/s eta 0:00:01\r\u001b[K     |████████████████████████████    | 61 kB 5.5 MB/s eta 0:00:01\r\u001b[K     |████████████████████████████████| 70 kB 3.4 MB/s \n",
            "\u001b[?25hRequirement already satisfied: tqdm in /usr/local/lib/python3.7/dist-packages (from deepctr-torch) (4.62.3)\n",
            "Requirement already satisfied: sklearn in /usr/local/lib/python3.7/dist-packages (from deepctr-torch) (0.0)\n",
            "Requirement already satisfied: torch>=1.1.0 in /usr/local/lib/python3.7/dist-packages (from deepctr-torch) (1.10.0+cu111)\n",
            "Requirement already satisfied: tensorflow in /usr/local/lib/python3.7/dist-packages (from deepctr-torch) (2.7.0)\n",
            "Requirement already satisfied: typing-extensions in /usr/local/lib/python3.7/dist-packages (from torch>=1.1.0->deepctr-torch) (3.10.0.2)\n",
            "Requirement already satisfied: scikit-learn in /usr/local/lib/python3.7/dist-packages (from sklearn->deepctr-torch) (1.0.1)\n",
            "Requirement already satisfied: joblib>=0.11 in /usr/local/lib/python3.7/dist-packages (from scikit-learn->sklearn->deepctr-torch) (1.1.0)\n",
            "Requirement already satisfied: scipy>=1.1.0 in /usr/local/lib/python3.7/dist-packages (from scikit-learn->sklearn->deepctr-torch) (1.4.1)\n",
            "Requirement already satisfied: numpy>=1.14.6 in /usr/local/lib/python3.7/dist-packages (from scikit-learn->sklearn->deepctr-torch) (1.19.5)\n",
            "Requirement already satisfied: threadpoolctl>=2.0.0 in /usr/local/lib/python3.7/dist-packages (from scikit-learn->sklearn->deepctr-torch) (3.0.0)\n",
            "Requirement already satisfied: astunparse>=1.6.0 in /usr/local/lib/python3.7/dist-packages (from tensorflow->deepctr-torch) (1.6.3)\n",
            "Requirement already satisfied: protobuf>=3.9.2 in /usr/local/lib/python3.7/dist-packages (from tensorflow->deepctr-torch) (3.17.3)\n",
            "Requirement already satisfied: tensorboard~=2.6 in /usr/local/lib/python3.7/dist-packages (from tensorflow->deepctr-torch) (2.7.0)\n",
            "Requirement already satisfied: flatbuffers<3.0,>=1.12 in /usr/local/lib/python3.7/dist-packages (from tensorflow->deepctr-torch) (2.0)\n",
            "Requirement already satisfied: opt-einsum>=2.3.2 in /usr/local/lib/python3.7/dist-packages (from tensorflow->deepctr-torch) (3.3.0)\n",
            "Requirement already satisfied: tensorflow-io-gcs-filesystem>=0.21.0 in /usr/local/lib/python3.7/dist-packages (from tensorflow->deepctr-torch) (0.22.0)\n",
            "Requirement already satisfied: termcolor>=1.1.0 in /usr/local/lib/python3.7/dist-packages (from tensorflow->deepctr-torch) (1.1.0)\n",
            "Requirement already satisfied: gast<0.5.0,>=0.2.1 in /usr/local/lib/python3.7/dist-packages (from tensorflow->deepctr-torch) (0.4.0)\n",
            "Requirement already satisfied: tensorflow-estimator<2.8,~=2.7.0rc0 in /usr/local/lib/python3.7/dist-packages (from tensorflow->deepctr-torch) (2.7.0)\n",
            "Requirement already satisfied: wheel<1.0,>=0.32.0 in /usr/local/lib/python3.7/dist-packages (from tensorflow->deepctr-torch) (0.37.0)\n",
            "Requirement already satisfied: libclang>=9.0.1 in /usr/local/lib/python3.7/dist-packages (from tensorflow->deepctr-torch) (12.0.0)\n",
            "Requirement already satisfied: keras<2.8,>=2.7.0rc0 in /usr/local/lib/python3.7/dist-packages (from tensorflow->deepctr-torch) (2.7.0)\n",
            "Requirement already satisfied: wrapt>=1.11.0 in /usr/local/lib/python3.7/dist-packages (from tensorflow->deepctr-torch) (1.13.3)\n",
            "Requirement already satisfied: h5py>=2.9.0 in /usr/local/lib/python3.7/dist-packages (from tensorflow->deepctr-torch) (3.1.0)\n",
            "Requirement already satisfied: google-pasta>=0.1.1 in /usr/local/lib/python3.7/dist-packages (from tensorflow->deepctr-torch) (0.2.0)\n",
            "Requirement already satisfied: keras-preprocessing>=1.1.1 in /usr/local/lib/python3.7/dist-packages (from tensorflow->deepctr-torch) (1.1.2)\n",
            "Requirement already satisfied: absl-py>=0.4.0 in /usr/local/lib/python3.7/dist-packages (from tensorflow->deepctr-torch) (0.12.0)\n",
            "Requirement already satisfied: grpcio<2.0,>=1.24.3 in /usr/local/lib/python3.7/dist-packages (from tensorflow->deepctr-torch) (1.42.0)\n",
            "Requirement already satisfied: six>=1.12.0 in /usr/local/lib/python3.7/dist-packages (from tensorflow->deepctr-torch) (1.15.0)\n",
            "Requirement already satisfied: cached-property in /usr/local/lib/python3.7/dist-packages (from h5py>=2.9.0->tensorflow->deepctr-torch) (1.5.2)\n",
            "Requirement already satisfied: google-auth-oauthlib<0.5,>=0.4.1 in /usr/local/lib/python3.7/dist-packages (from tensorboard~=2.6->tensorflow->deepctr-torch) (0.4.6)\n",
            "Requirement already satisfied: requests<3,>=2.21.0 in /usr/local/lib/python3.7/dist-packages (from tensorboard~=2.6->tensorflow->deepctr-torch) (2.23.0)\n",
            "Requirement already satisfied: werkzeug>=0.11.15 in /usr/local/lib/python3.7/dist-packages (from tensorboard~=2.6->tensorflow->deepctr-torch) (1.0.1)\n",
            "Requirement already satisfied: markdown>=2.6.8 in /usr/local/lib/python3.7/dist-packages (from tensorboard~=2.6->tensorflow->deepctr-torch) (3.3.6)\n",
            "Requirement already satisfied: google-auth<3,>=1.6.3 in /usr/local/lib/python3.7/dist-packages (from tensorboard~=2.6->tensorflow->deepctr-torch) (1.35.0)\n",
            "Requirement already satisfied: setuptools>=41.0.0 in /usr/local/lib/python3.7/dist-packages (from tensorboard~=2.6->tensorflow->deepctr-torch) (57.4.0)\n",
            "Requirement already satisfied: tensorboard-plugin-wit>=1.6.0 in /usr/local/lib/python3.7/dist-packages (from tensorboard~=2.6->tensorflow->deepctr-torch) (1.8.0)\n",
            "Requirement already satisfied: tensorboard-data-server<0.7.0,>=0.6.0 in /usr/local/lib/python3.7/dist-packages (from tensorboard~=2.6->tensorflow->deepctr-torch) (0.6.1)\n",
            "Requirement already satisfied: cachetools<5.0,>=2.0.0 in /usr/local/lib/python3.7/dist-packages (from google-auth<3,>=1.6.3->tensorboard~=2.6->tensorflow->deepctr-torch) (4.2.4)\n",
            "Requirement already satisfied: rsa<5,>=3.1.4 in /usr/local/lib/python3.7/dist-packages (from google-auth<3,>=1.6.3->tensorboard~=2.6->tensorflow->deepctr-torch) (4.8)\n",
            "Requirement already satisfied: pyasn1-modules>=0.2.1 in /usr/local/lib/python3.7/dist-packages (from google-auth<3,>=1.6.3->tensorboard~=2.6->tensorflow->deepctr-torch) (0.2.8)\n",
            "Requirement already satisfied: requests-oauthlib>=0.7.0 in /usr/local/lib/python3.7/dist-packages (from google-auth-oauthlib<0.5,>=0.4.1->tensorboard~=2.6->tensorflow->deepctr-torch) (1.3.0)\n",
            "Requirement already satisfied: importlib-metadata>=4.4 in /usr/local/lib/python3.7/dist-packages (from markdown>=2.6.8->tensorboard~=2.6->tensorflow->deepctr-torch) (4.8.2)\n",
            "Requirement already satisfied: zipp>=0.5 in /usr/local/lib/python3.7/dist-packages (from importlib-metadata>=4.4->markdown>=2.6.8->tensorboard~=2.6->tensorflow->deepctr-torch) (3.6.0)\n",
            "Requirement already satisfied: pyasn1<0.5.0,>=0.4.6 in /usr/local/lib/python3.7/dist-packages (from pyasn1-modules>=0.2.1->google-auth<3,>=1.6.3->tensorboard~=2.6->tensorflow->deepctr-torch) (0.4.8)\n",
            "Requirement already satisfied: urllib3!=1.25.0,!=1.25.1,<1.26,>=1.21.1 in /usr/local/lib/python3.7/dist-packages (from requests<3,>=2.21.0->tensorboard~=2.6->tensorflow->deepctr-torch) (1.24.3)\n",
            "Requirement already satisfied: idna<3,>=2.5 in /usr/local/lib/python3.7/dist-packages (from requests<3,>=2.21.0->tensorboard~=2.6->tensorflow->deepctr-torch) (2.10)\n",
            "Requirement already satisfied: certifi>=2017.4.17 in /usr/local/lib/python3.7/dist-packages (from requests<3,>=2.21.0->tensorboard~=2.6->tensorflow->deepctr-torch) (2021.10.8)\n",
            "Requirement already satisfied: chardet<4,>=3.0.2 in /usr/local/lib/python3.7/dist-packages (from requests<3,>=2.21.0->tensorboard~=2.6->tensorflow->deepctr-torch) (3.0.4)\n",
            "Requirement already satisfied: oauthlib>=3.0.0 in /usr/local/lib/python3.7/dist-packages (from requests-oauthlib>=0.7.0->google-auth-oauthlib<0.5,>=0.4.1->tensorboard~=2.6->tensorflow->deepctr-torch) (3.1.1)\n",
            "Installing collected packages: deepctr-torch\n",
            "Successfully installed deepctr-torch-0.2.7\n"
          ]
        }
      ],
      "source": [
        "!pip install -U deepctr-torch"
      ]
    },
    {
      "cell_type": "code",
      "execution_count": null,
      "metadata": {
        "id": "zOrzPAyu39EF"
      },
      "outputs": [],
      "source": [
        "import pandas as pd\n",
        "import numpy as np\n",
        "import torch\n",
        "from sklearn.model_selection import train_test_split\n",
        "from sklearn.preprocessing import OneHotEncoder, LabelEncoder, MinMaxScaler, StandardScaler, RobustScaler\n",
        "\n",
        "from deepctr_torch.inputs import SparseFeat, DenseFeat, get_feature_names\n",
        "from deepctr_torch.models import *"
      ]
    },
    {
      "cell_type": "markdown",
      "metadata": {
        "id": "fSxYQckUQ6HA"
      },
      "source": [
        "# 파일 불러오기"
      ]
    },
    {
      "cell_type": "markdown",
      "metadata": {
        "id": "mew9fg2rQ4dL"
      },
      "source": [
        "- 이미지 벡터 없는 파일"
      ]
    },
    {
      "cell_type": "code",
      "execution_count": null,
      "metadata": {
        "colab": {
          "base_uri": "https://localhost:8080/",
          "height": 315
        },
        "id": "Qt_IZeBQ7M8Y",
        "outputId": "0144c72e-1b44-4aba-d83a-00165c218a63"
      },
      "outputs": [
        {
          "output_type": "execute_result",
          "data": {
            "text/html": [
              "\n",
              "  <div id=\"df-8440ba6f-b16b-446d-96e4-6bc3d116c14d\">\n",
              "    <div class=\"colab-df-container\">\n",
              "      <div>\n",
              "<style scoped>\n",
              "    .dataframe tbody tr th:only-of-type {\n",
              "        vertical-align: middle;\n",
              "    }\n",
              "\n",
              "    .dataframe tbody tr th {\n",
              "        vertical-align: top;\n",
              "    }\n",
              "\n",
              "    .dataframe thead th {\n",
              "        text-align: right;\n",
              "    }\n",
              "</style>\n",
              "<table border=\"1\" class=\"dataframe\">\n",
              "  <thead>\n",
              "    <tr style=\"text-align: right;\">\n",
              "      <th></th>\n",
              "      <th>content_id</th>\n",
              "      <th>imp_id</th>\n",
              "      <th>view_time</th>\n",
              "      <th>bid_price</th>\n",
              "      <th>user_id</th>\n",
              "      <th>label</th>\n",
              "      <th>imp_time</th>\n",
              "      <th>adv_id</th>\n",
              "      <th>content_name</th>\n",
              "      <th>content_price</th>\n",
              "      <th>content_used</th>\n",
              "      <th>content_cat_1</th>\n",
              "      <th>content_cat_2</th>\n",
              "      <th>content_cat_3</th>\n",
              "      <th>content_emergency_count</th>\n",
              "      <th>content_comment_count</th>\n",
              "      <th>content_views</th>\n",
              "      <th>content_likes</th>\n",
              "      <th>content_b_pay</th>\n",
              "      <th>content_delivery_fee</th>\n",
              "      <th>content_status</th>\n",
              "      <th>content_img_url</th>\n",
              "      <th>adv_follower_count</th>\n",
              "      <th>adv_grade</th>\n",
              "      <th>adv_item_count</th>\n",
              "      <th>adv_views</th>\n",
              "      <th>adv_review_count</th>\n",
              "      <th>adv_comment_count</th>\n",
              "      <th>adv_pay_count</th>\n",
              "      <th>adv_parcel_post_count</th>\n",
              "      <th>adv_transfer_count</th>\n",
              "      <th>adv_chat_count</th>\n",
              "      <th>viewer_gender</th>\n",
              "      <th>viewer_age</th>\n",
              "      <th>viewer_following_count</th>\n",
              "      <th>viewer_pay_count</th>\n",
              "      <th>viewer_parcel_post_count</th>\n",
              "      <th>viewer_transfer_count</th>\n",
              "      <th>viewer_chat_count</th>\n",
              "      <th>viewer_age_ch</th>\n",
              "      <th>content_place</th>\n",
              "      <th>b_pay_rate</th>\n",
              "      <th>sec</th>\n",
              "      <th>title_len</th>\n",
              "    </tr>\n",
              "  </thead>\n",
              "  <tbody>\n",
              "    <tr>\n",
              "      <th>0</th>\n",
              "      <td>137078818</td>\n",
              "      <td>99d1612dded122458e99</td>\n",
              "      <td>16:56:46</td>\n",
              "      <td>50</td>\n",
              "      <td>1728109</td>\n",
              "      <td>1</td>\n",
              "      <td>16:48:41</td>\n",
              "      <td>12851816</td>\n",
              "      <td>#당일발송#아이폰SE2 64G/128G 대량판매 등급별초특가!</td>\n",
              "      <td>250000</td>\n",
              "      <td>1</td>\n",
              "      <td>전자제품</td>\n",
              "      <td>600700</td>\n",
              "      <td>600700001</td>\n",
              "      <td>1</td>\n",
              "      <td>4</td>\n",
              "      <td>25583</td>\n",
              "      <td>817</td>\n",
              "      <td>0</td>\n",
              "      <td>배송비포함</td>\n",
              "      <td>삭제됨</td>\n",
              "      <td>https://media.bunjang.co.kr/product/137078818_...</td>\n",
              "      <td>2131</td>\n",
              "      <td>5285</td>\n",
              "      <td>247</td>\n",
              "      <td>4525</td>\n",
              "      <td>542</td>\n",
              "      <td>739</td>\n",
              "      <td>496</td>\n",
              "      <td>0</td>\n",
              "      <td>0</td>\n",
              "      <td>11</td>\n",
              "      <td>1</td>\n",
              "      <td>30</td>\n",
              "      <td>5</td>\n",
              "      <td>0</td>\n",
              "      <td>0</td>\n",
              "      <td>0</td>\n",
              "      <td>0</td>\n",
              "      <td>30</td>\n",
              "      <td>서울특별시</td>\n",
              "      <td>0.394224</td>\n",
              "      <td>484.0</td>\n",
              "      <td>34</td>\n",
              "    </tr>\n",
              "    <tr>\n",
              "      <th>1</th>\n",
              "      <td>137078818</td>\n",
              "      <td>99d1612d825321055790</td>\n",
              "      <td>00:00:00</td>\n",
              "      <td>50</td>\n",
              "      <td>10733469</td>\n",
              "      <td>1</td>\n",
              "      <td>17:00:45</td>\n",
              "      <td>12851816</td>\n",
              "      <td>#당일발송#아이폰SE2 64G/128G 대량판매 등급별초특가!</td>\n",
              "      <td>250000</td>\n",
              "      <td>1</td>\n",
              "      <td>전자제품</td>\n",
              "      <td>600700</td>\n",
              "      <td>600700001</td>\n",
              "      <td>1</td>\n",
              "      <td>4</td>\n",
              "      <td>25583</td>\n",
              "      <td>817</td>\n",
              "      <td>0</td>\n",
              "      <td>배송비포함</td>\n",
              "      <td>삭제됨</td>\n",
              "      <td>https://media.bunjang.co.kr/product/137078818_...</td>\n",
              "      <td>2131</td>\n",
              "      <td>5285</td>\n",
              "      <td>247</td>\n",
              "      <td>4525</td>\n",
              "      <td>542</td>\n",
              "      <td>739</td>\n",
              "      <td>496</td>\n",
              "      <td>0</td>\n",
              "      <td>0</td>\n",
              "      <td>11</td>\n",
              "      <td>1</td>\n",
              "      <td>18</td>\n",
              "      <td>0</td>\n",
              "      <td>0</td>\n",
              "      <td>0</td>\n",
              "      <td>0</td>\n",
              "      <td>0</td>\n",
              "      <td>18</td>\n",
              "      <td>서울특별시</td>\n",
              "      <td>0.394224</td>\n",
              "      <td>7.0</td>\n",
              "      <td>34</td>\n",
              "    </tr>\n",
              "  </tbody>\n",
              "</table>\n",
              "</div>\n",
              "      <button class=\"colab-df-convert\" onclick=\"convertToInteractive('df-8440ba6f-b16b-446d-96e4-6bc3d116c14d')\"\n",
              "              title=\"Convert this dataframe to an interactive table.\"\n",
              "              style=\"display:none;\">\n",
              "        \n",
              "  <svg xmlns=\"http://www.w3.org/2000/svg\" height=\"24px\"viewBox=\"0 0 24 24\"\n",
              "       width=\"24px\">\n",
              "    <path d=\"M0 0h24v24H0V0z\" fill=\"none\"/>\n",
              "    <path d=\"M18.56 5.44l.94 2.06.94-2.06 2.06-.94-2.06-.94-.94-2.06-.94 2.06-2.06.94zm-11 1L8.5 8.5l.94-2.06 2.06-.94-2.06-.94L8.5 2.5l-.94 2.06-2.06.94zm10 10l.94 2.06.94-2.06 2.06-.94-2.06-.94-.94-2.06-.94 2.06-2.06.94z\"/><path d=\"M17.41 7.96l-1.37-1.37c-.4-.4-.92-.59-1.43-.59-.52 0-1.04.2-1.43.59L10.3 9.45l-7.72 7.72c-.78.78-.78 2.05 0 2.83L4 21.41c.39.39.9.59 1.41.59.51 0 1.02-.2 1.41-.59l7.78-7.78 2.81-2.81c.8-.78.8-2.07 0-2.86zM5.41 20L4 18.59l7.72-7.72 1.47 1.35L5.41 20z\"/>\n",
              "  </svg>\n",
              "      </button>\n",
              "      \n",
              "  <style>\n",
              "    .colab-df-container {\n",
              "      display:flex;\n",
              "      flex-wrap:wrap;\n",
              "      gap: 12px;\n",
              "    }\n",
              "\n",
              "    .colab-df-convert {\n",
              "      background-color: #E8F0FE;\n",
              "      border: none;\n",
              "      border-radius: 50%;\n",
              "      cursor: pointer;\n",
              "      display: none;\n",
              "      fill: #1967D2;\n",
              "      height: 32px;\n",
              "      padding: 0 0 0 0;\n",
              "      width: 32px;\n",
              "    }\n",
              "\n",
              "    .colab-df-convert:hover {\n",
              "      background-color: #E2EBFA;\n",
              "      box-shadow: 0px 1px 2px rgba(60, 64, 67, 0.3), 0px 1px 3px 1px rgba(60, 64, 67, 0.15);\n",
              "      fill: #174EA6;\n",
              "    }\n",
              "\n",
              "    [theme=dark] .colab-df-convert {\n",
              "      background-color: #3B4455;\n",
              "      fill: #D2E3FC;\n",
              "    }\n",
              "\n",
              "    [theme=dark] .colab-df-convert:hover {\n",
              "      background-color: #434B5C;\n",
              "      box-shadow: 0px 1px 3px 1px rgba(0, 0, 0, 0.15);\n",
              "      filter: drop-shadow(0px 1px 2px rgba(0, 0, 0, 0.3));\n",
              "      fill: #FFFFFF;\n",
              "    }\n",
              "  </style>\n",
              "\n",
              "      <script>\n",
              "        const buttonEl =\n",
              "          document.querySelector('#df-8440ba6f-b16b-446d-96e4-6bc3d116c14d button.colab-df-convert');\n",
              "        buttonEl.style.display =\n",
              "          google.colab.kernel.accessAllowed ? 'block' : 'none';\n",
              "\n",
              "        async function convertToInteractive(key) {\n",
              "          const element = document.querySelector('#df-8440ba6f-b16b-446d-96e4-6bc3d116c14d');\n",
              "          const dataTable =\n",
              "            await google.colab.kernel.invokeFunction('convertToInteractive',\n",
              "                                                     [key], {});\n",
              "          if (!dataTable) return;\n",
              "\n",
              "          const docLinkHtml = 'Like what you see? Visit the ' +\n",
              "            '<a target=\"_blank\" href=https://colab.research.google.com/notebooks/data_table.ipynb>data table notebook</a>'\n",
              "            + ' to learn more about interactive tables.';\n",
              "          element.innerHTML = '';\n",
              "          dataTable['output_type'] = 'display_data';\n",
              "          await google.colab.output.renderOutput(dataTable, element);\n",
              "          const docLink = document.createElement('div');\n",
              "          docLink.innerHTML = docLinkHtml;\n",
              "          element.appendChild(docLink);\n",
              "        }\n",
              "      </script>\n",
              "    </div>\n",
              "  </div>\n",
              "  "
            ],
            "text/plain": [
              "   content_id                imp_id view_time  ...  b_pay_rate    sec  title_len\n",
              "0   137078818  99d1612dded122458e99  16:56:46  ...    0.394224  484.0         34\n",
              "1   137078818  99d1612d825321055790  00:00:00  ...    0.394224    7.0         34\n",
              "\n",
              "[2 rows x 44 columns]"
            ]
          },
          "metadata": {},
          "execution_count": 6
        }
      ],
      "source": [
        "df = pd.read_csv('data/total_data.csv')\n",
        "# vec_df = pd.read_csv('data/vec512.csv', low_memory=False)\n",
        "df.head(2)"
      ]
    },
    {
      "cell_type": "markdown",
      "metadata": {
        "id": "nmR6FdMvQ7iF"
      },
      "source": [
        "# 준비"
      ]
    },
    {
      "cell_type": "markdown",
      "metadata": {
        "id": "-st1kXKgQ-fM"
      },
      "source": [
        "- 평가함수 정의"
      ]
    },
    {
      "cell_type": "code",
      "execution_count": null,
      "metadata": {
        "id": "cjoSBvkBBIgx"
      },
      "outputs": [],
      "source": [
        "from sklearn.metrics import log_loss, roc_auc_score\n",
        "\n",
        "grouped_label = df.groupby('label').size()\n",
        "average_ctr = float(grouped_label[1]/grouped_label.sum())\n",
        "average_ctr\n",
        "\n",
        "def get_rig(train_y, test_y, pred):\n",
        "    avg_ctr = average_ctr\n",
        "    prior = log_loss(train_y, [avg_ctr]*len(train_y))\n",
        "\n",
        "    classifier = log_loss(test_y, pred)\n",
        "\n",
        "    rig = (prior - classifier) / prior\n",
        "    return rig\n"
      ]
    },
    {
      "cell_type": "markdown",
      "metadata": {
        "id": "0Z0E9mOWR_ca"
      },
      "source": [
        "# 전처리"
      ]
    },
    {
      "cell_type": "markdown",
      "metadata": {
        "id": "9ocfJQ2cSBRu"
      },
      "source": [
        "### 학습에 사용할 feature 분류"
      ]
    },
    {
      "cell_type": "code",
      "source": [
        "df[\"viewer_age_ch10\"] = df[\"viewer_age_ch\"].apply(lambda x : (x//10) * 10)"
      ],
      "metadata": {
        "id": "ED5gt5I2EPxS"
      },
      "execution_count": null,
      "outputs": []
    },
    {
      "cell_type": "code",
      "execution_count": null,
      "metadata": {
        "id": "8nhX_6zx4PBR"
      },
      "outputs": [],
      "source": [
        "categorical = [\n",
        "    'viewer_gender',  \n",
        "    'content_used',\n",
        "    'content_cat_1',\n",
        "    #'content_cat_2',\n",
        "    #'content_cat_3',\n",
        "    \"content_status\",\n",
        "    'content_delivery_fee',\n",
        "    'content_b_pay', \n",
        "    'content_place',\n",
        "    \"viewer_age_ch10\"\n",
        "    ]\n",
        "\n",
        "continuous = [\n",
        "    'bid_price', \n",
        "    'content_price',\n",
        "    #'content_emergency_count',\n",
        "    'content_comment_count',     \n",
        "    'content_views',       \n",
        "    'content_likes',\n",
        "    'adv_follower_count',\n",
        "    #'adv_grade',       \n",
        "    'adv_item_count',         \n",
        "    'adv_views',\n",
        "    'adv_review_count',\n",
        "    'adv_comment_count',\n",
        "    'adv_pay_count',\n",
        "    'adv_parcel_post_count', \n",
        "    'adv_transfer_count', \n",
        "    #'adv_chat_count',\n",
        "    # 'viewer_age',\n",
        "    'viewer_following_count',\n",
        "    'viewer_pay_count',\n",
        "    \"viewer_parcel_post_count\",\n",
        "    'viewer_transfer_count',\n",
        "    'viewer_chat_count', \n",
        "#     'b_pay_rate',\n",
        "    # 'viewer_age_ch',\n",
        "    #'sec', \n",
        "    'title_len'\n",
        "    ]\n",
        "\n",
        "# 이미지 벡터 사용하는 경우\n",
        "# vec_features = [str(i) for i in range(512)]\n",
        "# continuous = continuous + vec_features"
      ]
    },
    {
      "cell_type": "markdown",
      "metadata": {
        "id": "9obv4wwbSFXE"
      },
      "source": [
        "### 결측치"
      ]
    },
    {
      "cell_type": "code",
      "execution_count": null,
      "metadata": {
        "id": "HoPkbc265JU5"
      },
      "outputs": [],
      "source": [
        "# 결측치 채우기\n",
        "df[categorical] = df[categorical].fillna('-1', )\n",
        "df[continuous] = df[continuous].fillna(0, )\n",
        "target = ['label']"
      ]
    },
    {
      "cell_type": "markdown",
      "metadata": {
        "id": "taG8T7OISGlB"
      },
      "source": [
        "### Label Encoding, Scaling"
      ]
    },
    {
      "cell_type": "code",
      "execution_count": null,
      "metadata": {
        "id": "18Pj9RPY5S1e"
      },
      "outputs": [],
      "source": [
        "# categorical 데이터는 Label Encoding\n",
        "# for feat in categorical:\n",
        "#     lbe = LabelEncoder()\n",
        "#     df[feat] = lbe.fit_transform(df[feat])\n",
        "    \n",
        "# continuous 데이터는 Min-Max Scaling\n",
        "scaler = MinMaxScaler(feature_range=(0, 1))\n",
        "df[continuous] = scaler.fit_transform(df[continuous])\n",
        "\n",
        "# # continuous 데이터는 Standard Scaling\n",
        "# scaler = StandardScaler()\n",
        "# df[continuous] = scaler.fit_transform(df[continuous])\n",
        "\n",
        "# scaler = RobustScaler()\n",
        "# df[continuous] = scaler.fit_transform(df[continuous])"
      ]
    },
    {
      "cell_type": "code",
      "execution_count": null,
      "metadata": {
        "id": "QSBc6OroNJT4"
      },
      "outputs": [],
      "source": [
        "df = pd.get_dummies(df, columns=categorical, drop_first=True)"
      ]
    },
    {
      "cell_type": "code",
      "execution_count": null,
      "metadata": {
        "id": "X0PQtMlZL5P4"
      },
      "outputs": [],
      "source": [
        "categorical = df.columns[37:].tolist()"
      ]
    },
    {
      "cell_type": "code",
      "execution_count": null,
      "metadata": {
        "colab": {
          "base_uri": "https://localhost:8080/"
        },
        "id": "Gke2LWLdrnot",
        "outputId": "6565f523-e4ae-4048-bcc6-26379106009f"
      },
      "outputs": [
        {
          "output_type": "execute_result",
          "data": {
            "text/plain": [
              "Index(['viewer_gender_1', 'viewer_gender_2', 'content_used_1',\n",
              "       'content_cat_1_가방', 'content_cat_1_기타', 'content_cat_1_남성 악세사리',\n",
              "       'content_cat_1_남성 의류', 'content_cat_1_도서/티켓/문구', 'content_cat_1_미용품',\n",
              "       'content_cat_1_반려동물용품', 'content_cat_1_생활/가공식품', 'content_cat_1_스타굿즈',\n",
              "       'content_cat_1_스포츠/레저', 'content_cat_1_시계/쥬얼리', 'content_cat_1_신발',\n",
              "       'content_cat_1_여성 의류', 'content_cat_1_예술/희귀/수집품',\n",
              "       'content_cat_1_유아동/출산', 'content_cat_1_음반/악기', 'content_cat_1_전자제품',\n",
              "       'content_cat_1_지역 서비스', 'content_cat_1_차량/오토바이', 'content_cat_1_키덜트',\n",
              "       'content_status_삭제됨', 'content_status_판매중',\n",
              "       'content_delivery_fee_배송비 별도', 'content_delivery_fee_배송비포함',\n",
              "       'content_b_pay_1', 'content_place_경상남도', 'content_place_경상북도',\n",
              "       'content_place_대구광역시', 'content_place_대전광역시', 'content_place_부산광역시 ',\n",
              "       'content_place_서울특별시', 'content_place_인천광역시', 'content_place_잠실역 (서',\n",
              "       'content_place_전국', 'content_place_전라북도 전', 'content_place_충청북도',\n",
              "       'viewer_age_ch10_10', 'viewer_age_ch10_20', 'viewer_age_ch10_30',\n",
              "       'viewer_age_ch10_40', 'viewer_age_ch10_50', 'viewer_age_ch10_60',\n",
              "       'viewer_age_ch10_70', 'viewer_age_ch10_80'],\n",
              "      dtype='object')"
            ]
          },
          "metadata": {},
          "execution_count": 14
        }
      ],
      "source": [
        "df.columns[37:]"
      ]
    },
    {
      "cell_type": "markdown",
      "metadata": {
        "id": "3E2DPFnAR9T3"
      },
      "source": [
        "### train test split"
      ]
    },
    {
      "cell_type": "code",
      "execution_count": null,
      "metadata": {
        "id": "J3XAbw_zISkU"
      },
      "outputs": [],
      "source": [
        "# 3.generate input data for model\n",
        "\n",
        "train, test = train_test_split(df, test_size=0.2, random_state=47)#, stratify=df['label'])"
      ]
    },
    {
      "cell_type": "markdown",
      "metadata": {
        "id": "YgYwjBwQSJuu"
      },
      "source": [
        "### 각 feature 정보를 형식에 맞춰 저장"
      ]
    },
    {
      "cell_type": "code",
      "execution_count": null,
      "metadata": {
        "id": "nVpSssLu5rXm"
      },
      "outputs": [],
      "source": [
        "# 2.count #unique features for each sparse field,and record dense feature field name\n",
        "\n",
        "# 각 feature마다 값의 종류가 몇개인지, feature 이름이 무엇인지 등 저장\n",
        "fixlen_feature_columns = [SparseFeat(feat, df[feat].nunique())\n",
        "                            for feat in categorical] + [DenseFeat(feat, 1, )\n",
        "                                                            for feat in continuous]\n",
        "\n",
        "# dnn feature에 일단 모든 feature 정보 넣기\n",
        "dnn_feature_columns = fixlen_feature_columns\n",
        "\n",
        "# lenear feature에도 일단 모든 feature 정보 넣기\n",
        "linear_feature_columns = fixlen_feature_columns \n",
        "\n",
        "# feature 이름들만 따로 저장\n",
        "feature_names = get_feature_names(\n",
        "    linear_feature_columns + dnn_feature_columns)"
      ]
    },
    {
      "cell_type": "code",
      "execution_count": null,
      "metadata": {
        "id": "CSV-s_yS6SQ2"
      },
      "outputs": [],
      "source": [
        "# train/test 데이터의 각 feature에 대응하는 컬럼을 딕셔너리로 저장\n",
        "train_model_input = {name: train[name] for name in feature_names}\n",
        "test_model_input = {name: test[name] for name in feature_names}"
      ]
    },
    {
      "cell_type": "markdown",
      "metadata": {
        "id": "99CA5fOlSdPk"
      },
      "source": [
        "# 학습"
      ]
    },
    {
      "cell_type": "code",
      "execution_count": null,
      "metadata": {
        "colab": {
          "base_uri": "https://localhost:8080/"
        },
        "id": "EOddQLJLSbFG",
        "outputId": "978f794c-aba0-4019-9e62-fcc373847c43"
      },
      "outputs": [
        {
          "output_type": "stream",
          "name": "stdout",
          "text": [
            "cpu\n",
            "Train on 470844 samples, validate on 117711 samples, 920 steps per epoch\n"
          ]
        },
        {
          "output_type": "stream",
          "name": "stderr",
          "text": [
            "920it [00:39, 23.58it/s]\n"
          ]
        },
        {
          "output_type": "stream",
          "name": "stdout",
          "text": [
            "Epoch 1/20\n",
            "41s - loss:  0.1389 - binary_crossentropy:  0.1389 - auc:  0.6785 - val_binary_crossentropy:  0.1322 - val_auc:  0.6909\n"
          ]
        },
        {
          "output_type": "stream",
          "name": "stderr",
          "text": [
            "920it [00:38, 24.04it/s]\n"
          ]
        },
        {
          "output_type": "stream",
          "name": "stdout",
          "text": [
            "Epoch 2/20\n",
            "40s - loss:  0.1365 - binary_crossentropy:  0.1365 - auc:  0.6788 - val_binary_crossentropy:  0.1330 - val_auc:  0.6825\n"
          ]
        },
        {
          "output_type": "stream",
          "name": "stderr",
          "text": [
            "920it [00:38, 23.73it/s]\n"
          ]
        },
        {
          "output_type": "stream",
          "name": "stdout",
          "text": [
            "Epoch 3/20\n",
            "41s - loss:  0.1350 - binary_crossentropy:  0.1350 - auc:  0.6936 - val_binary_crossentropy:  0.1323 - val_auc:  0.6941\n"
          ]
        },
        {
          "output_type": "stream",
          "name": "stderr",
          "text": [
            "920it [00:39, 23.49it/s]\n"
          ]
        },
        {
          "output_type": "stream",
          "name": "stdout",
          "text": [
            "Epoch 4/20\n",
            "41s - loss:  0.1345 - binary_crossentropy:  0.1345 - auc:  0.6969 - val_binary_crossentropy:  0.1315 - val_auc:  0.6955\n"
          ]
        },
        {
          "output_type": "stream",
          "name": "stderr",
          "text": [
            "920it [00:38, 23.88it/s]\n"
          ]
        },
        {
          "output_type": "stream",
          "name": "stdout",
          "text": [
            "Epoch 5/20\n",
            "40s - loss:  0.1340 - binary_crossentropy:  0.1340 - auc:  0.7037 - val_binary_crossentropy:  0.1325 - val_auc:  0.6985\n"
          ]
        },
        {
          "output_type": "stream",
          "name": "stderr",
          "text": [
            "920it [00:38, 23.90it/s]\n"
          ]
        },
        {
          "output_type": "stream",
          "name": "stdout",
          "text": [
            "Epoch 6/20\n",
            "40s - loss:  0.1336 - binary_crossentropy:  0.1336 - auc:  0.7087 - val_binary_crossentropy:  0.1312 - val_auc:  0.7045\n"
          ]
        },
        {
          "output_type": "stream",
          "name": "stderr",
          "text": [
            "920it [00:38, 23.70it/s]\n"
          ]
        },
        {
          "output_type": "stream",
          "name": "stdout",
          "text": [
            "Epoch 7/20\n",
            "41s - loss:  0.1330 - binary_crossentropy:  0.1330 - auc:  0.7130 - val_binary_crossentropy:  0.1314 - val_auc:  0.7066\n"
          ]
        },
        {
          "output_type": "stream",
          "name": "stderr",
          "text": [
            "920it [00:38, 23.78it/s]\n"
          ]
        },
        {
          "output_type": "stream",
          "name": "stdout",
          "text": [
            "Epoch 8/20\n",
            "41s - loss:  0.1326 - binary_crossentropy:  0.1326 - auc:  0.7178 - val_binary_crossentropy:  0.1308 - val_auc:  0.7080\n"
          ]
        },
        {
          "output_type": "stream",
          "name": "stderr",
          "text": [
            "920it [00:39, 23.58it/s]\n"
          ]
        },
        {
          "output_type": "stream",
          "name": "stdout",
          "text": [
            "Epoch 9/20\n",
            "41s - loss:  0.1322 - binary_crossentropy:  0.1322 - auc:  0.7201 - val_binary_crossentropy:  0.1306 - val_auc:  0.7088\n"
          ]
        },
        {
          "output_type": "stream",
          "name": "stderr",
          "text": [
            "920it [00:41, 22.16it/s]\n"
          ]
        },
        {
          "output_type": "stream",
          "name": "stdout",
          "text": [
            "Epoch 10/20\n",
            "44s - loss:  0.1318 - binary_crossentropy:  0.1318 - auc:  0.7246 - val_binary_crossentropy:  0.1304 - val_auc:  0.7108\n"
          ]
        },
        {
          "output_type": "stream",
          "name": "stderr",
          "text": [
            "920it [00:40, 22.97it/s]\n"
          ]
        },
        {
          "output_type": "stream",
          "name": "stdout",
          "text": [
            "Epoch 11/20\n",
            "42s - loss:  0.1315 - binary_crossentropy:  0.1315 - auc:  0.7264 - val_binary_crossentropy:  0.1305 - val_auc:  0.7063\n"
          ]
        },
        {
          "output_type": "stream",
          "name": "stderr",
          "text": [
            "920it [00:39, 23.45it/s]\n"
          ]
        },
        {
          "output_type": "stream",
          "name": "stdout",
          "text": [
            "Epoch 12/20\n",
            "41s - loss:  0.1311 - binary_crossentropy:  0.1311 - auc:  0.7300 - val_binary_crossentropy:  0.1306 - val_auc:  0.7084\n"
          ]
        },
        {
          "output_type": "stream",
          "name": "stderr",
          "text": [
            "920it [00:38, 23.90it/s]\n"
          ]
        },
        {
          "output_type": "stream",
          "name": "stdout",
          "text": [
            "Epoch 13/20\n",
            "40s - loss:  0.1307 - binary_crossentropy:  0.1307 - auc:  0.7336 - val_binary_crossentropy:  0.1315 - val_auc:  0.7078\n"
          ]
        },
        {
          "output_type": "stream",
          "name": "stderr",
          "text": [
            "920it [00:38, 23.76it/s]\n"
          ]
        },
        {
          "output_type": "stream",
          "name": "stdout",
          "text": [
            "Epoch 14/20\n",
            "41s - loss:  0.1304 - binary_crossentropy:  0.1304 - auc:  0.7354 - val_binary_crossentropy:  0.1304 - val_auc:  0.7144\n"
          ]
        },
        {
          "output_type": "stream",
          "name": "stderr",
          "text": [
            "920it [00:38, 23.87it/s]\n"
          ]
        },
        {
          "output_type": "stream",
          "name": "stdout",
          "text": [
            "Epoch 15/20\n",
            "41s - loss:  0.1301 - binary_crossentropy:  0.1301 - auc:  0.7380 - val_binary_crossentropy:  0.1300 - val_auc:  0.7156\n"
          ]
        },
        {
          "output_type": "stream",
          "name": "stderr",
          "text": [
            "920it [00:38, 23.71it/s]\n"
          ]
        },
        {
          "output_type": "stream",
          "name": "stdout",
          "text": [
            "Epoch 16/20\n",
            "41s - loss:  0.1299 - binary_crossentropy:  0.1299 - auc:  0.7403 - val_binary_crossentropy:  0.1310 - val_auc:  0.7148\n"
          ]
        },
        {
          "output_type": "stream",
          "name": "stderr",
          "text": [
            "920it [00:39, 23.56it/s]\n"
          ]
        },
        {
          "output_type": "stream",
          "name": "stdout",
          "text": [
            "Epoch 17/20\n",
            "41s - loss:  0.1297 - binary_crossentropy:  0.1297 - auc:  0.7405 - val_binary_crossentropy:  0.1301 - val_auc:  0.7190\n"
          ]
        },
        {
          "output_type": "stream",
          "name": "stderr",
          "text": [
            "920it [00:38, 23.71it/s]\n"
          ]
        },
        {
          "output_type": "stream",
          "name": "stdout",
          "text": [
            "Epoch 18/20\n",
            "41s - loss:  0.1293 - binary_crossentropy:  0.1293 - auc:  0.7431 - val_binary_crossentropy:  0.1303 - val_auc:  0.7140\n"
          ]
        },
        {
          "output_type": "stream",
          "name": "stderr",
          "text": [
            "920it [00:39, 23.57it/s]\n"
          ]
        },
        {
          "output_type": "stream",
          "name": "stdout",
          "text": [
            "Epoch 19/20\n",
            "41s - loss:  0.1291 - binary_crossentropy:  0.1290 - auc:  0.7457 - val_binary_crossentropy:  0.1316 - val_auc:  0.7140\n"
          ]
        },
        {
          "output_type": "stream",
          "name": "stderr",
          "text": [
            "920it [00:38, 23.79it/s]\n"
          ]
        },
        {
          "output_type": "stream",
          "name": "stdout",
          "text": [
            "Epoch 20/20\n",
            "41s - loss:  0.1288 - binary_crossentropy:  0.1288 - auc:  0.7490 - val_binary_crossentropy:  0.1300 - val_auc:  0.7191\n",
            "\n",
            "test LogLoss 0.1329\n",
            "test AUC 0.7176\n",
            "test RIG 0.0613\n"
          ]
        }
      ],
      "source": [
        "# cpu gpu 설정\n",
        "# device = 'cpu'\n",
        "use_cuda = True\n",
        "if use_cuda and torch.cuda.is_available():\n",
        "    print('cuda ready...')\n",
        "    device = 'cuda:0'\n",
        "\n",
        "# 모델 정의\n",
        "# model = DeepFM(linear_feature_columns=linear_feature_columns, dnn_feature_columns=dnn_feature_columns,\n",
        "#                 task='binary',\n",
        "#                 l2_reg_embedding=1e-5, device=device)\n",
        "\n",
        "model = DeepFM(linear_feature_columns, dnn_feature_columns, dnn_hidden_units=(256, 256), dnn_dropout=0.0,\n",
        "               dnn_activation='relu', dnn_use_bn=True, task='binary')\n",
        "\n",
        "\n",
        "# optimizer, loss 설정\n",
        "model.compile(\"adam\", \"binary_crossentropy\",\n",
        "                metrics=[\"binary_crossentropy\", \"auc\"], )\n",
        "\n",
        "\n",
        "# 모델 학습\n",
        "model.fit(x = train_model_input, y = train[target].values, batch_size=512, epochs=20, verbose=1, validation_split=0.2)\n",
        "\n",
        "# 평가\n",
        "pred_ans = model.predict(test_model_input, 512)\n",
        "print(\"\")\n",
        "print(\"test LogLoss\", round(log_loss(test[target].values, pred_ans), 4))\n",
        "print(\"test AUC\", round(roc_auc_score(test[target].values, pred_ans), 4))\n",
        "print(\"test RIG\", round(get_rig(train[target].values, test[target].values, pred_ans), 4))"
      ]
    },
    {
      "cell_type": "markdown",
      "metadata": {
        "id": "Seq9op3On7HS"
      },
      "source": [
        "- DeepFM(linear_feature_columns, dnn_feature_columns, use_fm=True, dnn_hidden_units=(256, 128), l2_reg_linear=1e-05, l2_reg_embedding=1e-05, l2_reg_dnn=0, init_std=0.0001, seed=1024, dnn_dropout=0, dnn_activation='relu', dnn_use_bn=False, task='binary', device='cpu', gpus=None)\n",
        "### Parameters:\t\n",
        "- linear_feature_columns – An iterable containing all the features used by linear part of the model.\n",
        "- dnn_feature_columns – An iterable containing all the features used by deep part of the model.\n",
        "- use_fm – bool,use FM part or not\n",
        "- dnn_hidden_units – list,list of positive integer or empty list, the layer - - number and units in each layer of DNN\n",
        "- l2_reg_linear – float. L2 regularizer strength applied to linear part\n",
        "- l2_reg_embedding – float. L2 regularizer strength applied to embedding vector\n",
        "- l2_reg_dnn – float. L2 regularizer strength applied to DNN\n",
        "- init_std – float,to use as the initialize std of embedding vector\n",
        "- seed – integer ,to use as random seed.\n",
        "- dnn_dropout – float in [0,1), the probability we will drop out a given DNN coordinate.\n",
        "- dnn_activation – Activation function to use in DNN\n",
        "- dnn_use_bn – bool. Whether use BatchNormalization before activation or not in DNN\n",
        "- task – str, \"binary\" for binary logloss or \"regression\" for regression loss\n",
        "- device – str, \"cpu\" or \"cuda:0\"\n",
        "- gpus – list of int or torch.device for multiple gpus. If None, run on device. gpus[0] should be the same gpu with device."
      ]
    },
    {
      "cell_type": "markdown",
      "metadata": {
        "id": "mALmAT0eSbUy"
      },
      "source": [
        "# 학습 - 1223"
      ]
    },
    {
      "cell_type": "markdown",
      "metadata": {
        "id": "4-XADhBRTy4V"
      },
      "source": [
        "- Standard Scaling, 이미지 벡터 제외"
      ]
    },
    {
      "cell_type": "code",
      "execution_count": null,
      "metadata": {
        "colab": {
          "base_uri": "https://localhost:8080/"
        },
        "id": "uYKvgZyh6fgG",
        "outputId": "952cc691-02f3-46f9-9987-00791e857bc5"
      },
      "outputs": [
        {
          "name": "stdout",
          "output_type": "stream",
          "text": [
            "cuda ready...\n",
            "cuda:0\n",
            "Train on 588555 samples, validate on 0 samples, 575 steps per epoch\n",
            "Epoch 1/20\n",
            "8s - loss:  0.1388 - binary_crossentropy:  0.1388 - auc:  0.6745\n",
            "Epoch 2/20\n",
            "8s - loss:  0.1350 - binary_crossentropy:  0.1350 - auc:  0.6879\n",
            "Epoch 3/20\n",
            "8s - loss:  0.1348 - binary_crossentropy:  0.1348 - auc:  0.6896\n",
            "Epoch 4/20\n",
            "8s - loss:  0.1346 - binary_crossentropy:  0.1346 - auc:  0.6899\n",
            "Epoch 5/20\n",
            "8s - loss:  0.1346 - binary_crossentropy:  0.1346 - auc:  0.6918\n",
            "Epoch 6/20\n",
            "8s - loss:  0.1345 - binary_crossentropy:  0.1344 - auc:  0.6924\n",
            "Epoch 7/20\n",
            "8s - loss:  0.1344 - binary_crossentropy:  0.1344 - auc:  0.6931\n",
            "Epoch 8/20\n",
            "8s - loss:  0.1343 - binary_crossentropy:  0.1343 - auc:  0.6942\n",
            "Epoch 9/20\n",
            "8s - loss:  0.1342 - binary_crossentropy:  0.1342 - auc:  0.6941\n",
            "Epoch 10/20\n",
            "8s - loss:  0.1342 - binary_crossentropy:  0.1342 - auc:  0.6956\n",
            "Epoch 11/20\n",
            "8s - loss:  0.1341 - binary_crossentropy:  0.1341 - auc:  0.6955\n",
            "Epoch 12/20\n",
            "8s - loss:  0.1341 - binary_crossentropy:  0.1341 - auc:  0.6963\n",
            "Epoch 13/20\n",
            "8s - loss:  0.1340 - binary_crossentropy:  0.1340 - auc:  0.6962\n",
            "Epoch 14/20\n",
            "8s - loss:  0.1340 - binary_crossentropy:  0.1340 - auc:  0.6977\n",
            "Epoch 15/20\n",
            "8s - loss:  0.1340 - binary_crossentropy:  0.1340 - auc:  0.6977\n",
            "Epoch 16/20\n",
            "8s - loss:  0.1339 - binary_crossentropy:  0.1339 - auc:  0.6983\n",
            "Epoch 17/20\n",
            "8s - loss:  0.1339 - binary_crossentropy:  0.1339 - auc:  0.6984\n",
            "Epoch 18/20\n",
            "8s - loss:  0.1338 - binary_crossentropy:  0.1338 - auc:  0.6985\n",
            "Epoch 19/20\n",
            "8s - loss:  0.1338 - binary_crossentropy:  0.1338 - auc:  0.6991\n",
            "Epoch 20/20\n",
            "8s - loss:  0.1338 - binary_crossentropy:  0.1338 - auc:  0.6993\n",
            "\n",
            "test LogLoss 0.1331\n",
            "test AUC 0.6995\n",
            "test RIG 0.0616\n"
          ]
        }
      ],
      "source": [
        "# 4.Define Model,train,predict and evaluate\n",
        "# cpu gpu 설정\n",
        "# device = 'cpu'\n",
        "use_cuda = True\n",
        "if use_cuda and torch.cuda.is_available():\n",
        "    print('cuda ready...')\n",
        "    device = 'cuda:0'\n",
        "\n",
        "# 모델 정의\n",
        "model = DeepFM(linear_feature_columns=linear_feature_columns, dnn_feature_columns=dnn_feature_columns,\n",
        "                task='binary',\n",
        "                l2_reg_embedding=1e-5, device=device)\n",
        "\n",
        "# optimizer, loss 설정\n",
        "model.compile(\"adagrad\", \"binary_crossentropy\",\n",
        "                metrics=[\"binary_crossentropy\", \"auc\"], )\n",
        "# 모델 학습\n",
        "model.fit(x = train_model_input, y = train[target].values, batch_size=1024, epochs=20, verbose=2, validation_split=0.0)\n",
        "\n",
        "# 예측\n",
        "pred_ans = model.predict(test_model_input, 1024)\n",
        "print(\"\")\n",
        "print(\"test LogLoss\", round(log_loss(test[target].values, pred_ans), 4))\n",
        "print(\"test AUC\", round(roc_auc_score(test[target].values, pred_ans), 4))\n",
        "print(\"test RIG\", round(get_rig(train[target].values, test[target].values, pred_ans), 4))"
      ]
    },
    {
      "cell_type": "markdown",
      "metadata": {
        "id": "w7XSmH10Ts8u"
      },
      "source": [
        "- Standard Scaling, 이미지 벡터 전부 사용"
      ]
    },
    {
      "cell_type": "code",
      "execution_count": null,
      "metadata": {
        "colab": {
          "base_uri": "https://localhost:8080/"
        },
        "id": "CBigNaVpMwVj",
        "outputId": "ee6c46ac-fb07-4a99-aabb-0eaee8b04316"
      },
      "outputs": [
        {
          "name": "stdout",
          "output_type": "stream",
          "text": [
            "cuda:0\n",
            "Train on 588555 samples, validate on 0 samples, 575 steps per epoch\n",
            "Epoch 1/20\n",
            "11s - loss:  0.1303 - binary_crossentropy:  0.1303 - auc:  0.7360\n",
            "Epoch 2/20\n",
            "11s - loss:  0.1302 - binary_crossentropy:  0.1302 - auc:  0.7356\n",
            "Epoch 3/20\n",
            "11s - loss:  0.1302 - binary_crossentropy:  0.1302 - auc:  0.7365\n",
            "Epoch 4/20\n",
            "11s - loss:  0.1302 - binary_crossentropy:  0.1302 - auc:  0.7366\n",
            "Epoch 5/20\n",
            "11s - loss:  0.1302 - binary_crossentropy:  0.1302 - auc:  0.7366\n",
            "Epoch 6/20\n",
            "11s - loss:  0.1301 - binary_crossentropy:  0.1301 - auc:  0.7376\n",
            "Epoch 7/20\n",
            "11s - loss:  0.1301 - binary_crossentropy:  0.1301 - auc:  0.7374\n",
            "Epoch 8/20\n",
            "11s - loss:  0.1300 - binary_crossentropy:  0.1300 - auc:  0.7381\n",
            "Epoch 9/20\n",
            "11s - loss:  0.1300 - binary_crossentropy:  0.1300 - auc:  0.7387\n",
            "Epoch 10/20\n",
            "11s - loss:  0.1300 - binary_crossentropy:  0.1300 - auc:  0.7386\n",
            "Epoch 11/20\n",
            "11s - loss:  0.1299 - binary_crossentropy:  0.1299 - auc:  0.7391\n",
            "Epoch 12/20\n",
            "11s - loss:  0.1299 - binary_crossentropy:  0.1299 - auc:  0.7392\n",
            "Epoch 13/20\n",
            "11s - loss:  0.1299 - binary_crossentropy:  0.1299 - auc:  0.7392\n",
            "Epoch 14/20\n",
            "11s - loss:  0.1298 - binary_crossentropy:  0.1298 - auc:  0.7402\n",
            "Epoch 15/20\n",
            "11s - loss:  0.1298 - binary_crossentropy:  0.1298 - auc:  0.7399\n",
            "Epoch 16/20\n",
            "11s - loss:  0.1298 - binary_crossentropy:  0.1298 - auc:  0.7404\n",
            "Epoch 17/20\n",
            "12s - loss:  0.1297 - binary_crossentropy:  0.1297 - auc:  0.7407\n",
            "Epoch 18/20\n",
            "11s - loss:  0.1297 - binary_crossentropy:  0.1297 - auc:  0.7409\n",
            "Epoch 19/20\n",
            "11s - loss:  0.1297 - binary_crossentropy:  0.1297 - auc:  0.7408\n",
            "Epoch 20/20\n",
            "11s - loss:  0.1296 - binary_crossentropy:  0.1296 - auc:  0.7415\n",
            "\n",
            "test LogLoss 0.1304\n",
            "test AUC 0.7279\n",
            "test RIG 0.0805\n"
          ]
        }
      ],
      "source": [
        "# 모델 학습\n",
        "model.fit(x = train_model_input, y = train[target].values, batch_size=1024, epochs=20, verbose=2, validation_split=0.0)\n",
        "\n",
        "# 예측\n",
        "pred_ans = model.predict(test_model_input, 1024)\n",
        "print(\"\")\n",
        "print(\"test LogLoss\", round(log_loss(test[target].values, pred_ans), 4))\n",
        "print(\"test AUC\", round(roc_auc_score(test[target].values, pred_ans), 4))\n",
        "print(\"test RIG\", round(get_rig(train[target].values, test[target].values, pred_ans), 4))"
      ]
    },
    {
      "cell_type": "code",
      "execution_count": null,
      "metadata": {
        "id": "BaebSaZKM-9_"
      },
      "outputs": [],
      "source": [
        ""
      ]
    }
  ],
  "metadata": {
    "colab": {
      "collapsed_sections": [],
      "machine_shape": "hm",
      "name": "DeepFM_태양.ipynb",
      "provenance": [],
      "include_colab_link": true
    },
    "interpreter": {
      "hash": "ac2eaa0ea0ebeafcc7822e65e46aa9d4f966f30b695406963e145ea4a91cd4fc"
    },
    "kernelspec": {
      "display_name": "Python 3",
      "language": "python",
      "name": "python3"
    },
    "language_info": {
      "codemirror_mode": {
        "name": "ipython",
        "version": 3
      },
      "file_extension": ".py",
      "mimetype": "text/x-python",
      "name": "python",
      "nbconvert_exporter": "python",
      "pygments_lexer": "ipython3",
      "version": "3.7.4"
    },
    "toc": {
      "base_numbering": 1,
      "nav_menu": {},
      "number_sections": true,
      "sideBar": true,
      "skip_h1_title": false,
      "title_cell": "Table of Contents",
      "title_sidebar": "Contents",
      "toc_cell": false,
      "toc_position": {},
      "toc_section_display": true,
      "toc_window_display": false
    },
    "varInspector": {
      "cols": {
        "lenName": 16,
        "lenType": 16,
        "lenVar": 40
      },
      "kernels_config": {
        "python": {
          "delete_cmd_postfix": "",
          "delete_cmd_prefix": "del ",
          "library": "var_list.py",
          "varRefreshCmd": "print(var_dic_list())"
        },
        "r": {
          "delete_cmd_postfix": ") ",
          "delete_cmd_prefix": "rm(",
          "library": "var_list.r",
          "varRefreshCmd": "cat(var_dic_list()) "
        }
      },
      "types_to_exclude": [
        "module",
        "function",
        "builtin_function_or_method",
        "instance",
        "_Feature"
      ],
      "window_display": false
    }
  },
  "nbformat": 4,
  "nbformat_minor": 0
}